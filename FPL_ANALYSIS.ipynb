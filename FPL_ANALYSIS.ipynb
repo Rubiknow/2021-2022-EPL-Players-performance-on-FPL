{
  "nbformat": 4,
  "nbformat_minor": 0,
  "metadata": {
    "colab": {
      "name": "FPL ANALYSIS",
      "provenance": [],
      "collapsed_sections": [],
      "mount_file_id": "1E0vZarN8xOE3F-yQkBgdR5Pqe1LhoTkV",
      "authorship_tag": "ABX9TyObI9k7LKgDBo84toZwDMhK",
      "include_colab_link": true
    },
    "kernelspec": {
      "name": "python3",
      "display_name": "Python 3"
    },
    "language_info": {
      "name": "python"
    }
  },
  "cells": [
    {
      "cell_type": "markdown",
      "metadata": {
        "id": "view-in-github",
        "colab_type": "text"
      },
      "source": [
        "<a href=\"https://colab.research.google.com/github/Rubiknow/2021-2022-FPL-Players-Analysis/blob/main/FPL_ANALYSIS.ipynb\" target=\"_parent\"><img src=\"https://colab.research.google.com/assets/colab-badge.svg\" alt=\"Open In Colab\"/></a>"
      ]
    },
    {
      "cell_type": "markdown",
      "source": [
        "#BRIEF FPL ANALYSIS"
      ],
      "metadata": {
        "id": "XihQhpSk1zbs"
      }
    },
    {
      "cell_type": "markdown",
      "source": [
        "The Fantasy Premier League (FPL) over the years has become an exciting way fans get to experience and engage \n",
        "with the English Premier League (EPL), its players and their favorite clubs in the league.\n",
        "\n",
        "I personally joined the FPL in 2016/2017 season, at first passively, joining a private league with cash prize \n",
        "incentives, made me even more competitive and pay more attention to events that I previously wouldn’t care for \n",
        "during the course of the season.\n",
        "\n",
        "For the 2020/2021 season, I finished in the top 3 positions in 3 private leagues, with a total of 2,291 points,  \n",
        "I averaged a Gameweek score of 65 points and ranked 403,335 which is in the top 5% of all FPL managers.\n",
        "\n",
        "The 2021/2022 season was sort of a diaster for me, my total points went down by 14.2% to 1966, averaging 51 points per game week\n",
        "\n",
        "The new EPL season commences on the 5th of July 2022, less than 2 days away effectively kicking off the new FPL season. In hope to perform better than last season, I have been doing some research have found many great tips out there such; how to rank players using value index, how to distribute your budget and what to look out for during the course of the season, when and how to use chips amongst others.\n",
        "\n",
        "While looking into this, I decided to do a brief analysis of last season players and team performance in anticipation for the next season. For this project I used Python package and Google Colab, to briefly gain an insight and visualize player performances and some key indices of EPL players in the last FPL season.\n"
      ],
      "metadata": {
        "id": "EI-FuWhK10gM"
      }
    },
    {
      "cell_type": "markdown",
      "source": [
        "# TABLE OF CONTENT\n",
        "\n",
        "### 1. Importing Library and Data\n",
        "### 2. Data Cleaning\n",
        "### 3. Exploratory Data Analysis\n",
        "### 4. Key Points\n",
        "### 5. Conclusion\n",
        "### 6. Brief"
      ],
      "metadata": {
        "id": "FfBT3N-N3xX_"
      }
    },
    {
      "cell_type": "markdown",
      "source": [
        ""
      ],
      "metadata": {
        "id": "XcoGvtEu33uB"
      }
    },
    {
      "cell_type": "markdown",
      "source": [
        "# 1. Importing Library and Data\n",
        "### 1.1 Importing Libraries"
      ],
      "metadata": {
        "id": "8xNnU9p1ZYzm"
      }
    },
    {
      "cell_type": "code",
      "source": [
        "#To request for our data from the source.\n",
        "import requests\n",
        "\n",
        "#For data cleaning, exploration, and analysis.\n",
        "import pandas as pd\n",
        "import numpy as np\n",
        "\n",
        "#For data visualisation.\n",
        "import matplotlib.pyplot as plt\n",
        "import seaborn as sns\n",
        "\n",
        "\n",
        "import warnings\n",
        "warnings.filterwarnings('ignore')\n",
        "\n",
        "from pandas_profiling import ProfileReport"
      ],
      "metadata": {
        "id": "rUGWzVdYZfYr"
      },
      "execution_count": null,
      "outputs": []
    },
    {
      "cell_type": "markdown",
      "source": [
        "### 1.2 Importing Data"
      ],
      "metadata": {
        "id": "InBnNoHhZrIn"
      }
    },
    {
      "cell_type": "markdown",
      "source": [
        "### 1.2 Importing Data"
      ],
      "metadata": {
        "id": "6c_YzJobaDYT"
      }
    },
    {
      "cell_type": "code",
      "source": [
        "# We need the API\n",
        "url = 'https://fantasy.premierleague.com/api/bootstrap-static/'\n",
        "\n",
        "# we use the request module to interact with our API and make a GET request\n",
        "# we transform our GET request into a JSON oject\n",
        "\n",
        "file = requests.get(url)\n",
        "file_json = file.json()\n",
        "\n",
        "file_json.keys()"
      ],
      "metadata": {
        "colab": {
          "base_uri": "https://localhost:8080/"
        },
        "id": "FSOVJHVKZxfe",
        "outputId": "7c35c346-8989-4aaf-bbaf-10890b4f1285"
      },
      "execution_count": null,
      "outputs": [
        {
          "output_type": "execute_result",
          "data": {
            "text/plain": [
              "dict_keys(['events', 'game_settings', 'phases', 'teams', 'total_players', 'elements', 'element_stats', 'element_types'])"
            ]
          },
          "metadata": {},
          "execution_count": 3
        }
      ]
    },
    {
      "cell_type": "markdown",
      "source": [
        "### 1.3 Create Data Frame from JSON"
      ],
      "metadata": {
        "id": "_WduoRVpaLbM"
      }
    },
    {
      "cell_type": "code",
      "source": [
        "#Use the key from from the JSON file to create dataframes\n",
        "\n",
        "elements_df = pd.DataFrame(file_json['elements'])\n",
        "elements_types_df = pd.DataFrame(file_json['element_types'])\n",
        "team = pd.DataFrame(file_json['teams'])\n",
        "\n",
        "team.columns"
      ],
      "metadata": {
        "colab": {
          "base_uri": "https://localhost:8080/"
        },
        "id": "mrfD4YBhaGx3",
        "outputId": "bd92da98-1c81-4023-e975-d52821ebb90d"
      },
      "execution_count": null,
      "outputs": [
        {
          "output_type": "execute_result",
          "data": {
            "text/plain": [
              "Index(['code', 'draw', 'form', 'id', 'loss', 'name', 'played', 'points',\n",
              "       'position', 'short_name', 'strength', 'team_division', 'unavailable',\n",
              "       'win', 'strength_overall_home', 'strength_overall_away',\n",
              "       'strength_attack_home', 'strength_attack_away', 'strength_defence_home',\n",
              "       'strength_defence_away', 'pulse_id'],\n",
              "      dtype='object')"
            ]
          },
          "metadata": {},
          "execution_count": 4
        }
      ]
    },
    {
      "cell_type": "code",
      "source": [
        "#Select target column\n",
        "fpl_df = elements_df[['first_name','second_name','team','element_type','selected_by_percent','bonus','bps','minutes','value_season',\n",
        "                      'total_points','creativity','points_per_game','now_cost' ]]"
      ],
      "metadata": {
        "id": "fH0Sm8vyaSmu"
      },
      "execution_count": null,
      "outputs": []
    },
    {
      "cell_type": "markdown",
      "source": [
        "# 2. Data Cleaning"
      ],
      "metadata": {
        "id": "FB3i09CHaPgU"
      }
    },
    {
      "cell_type": "code",
      "source": [
        "fpl_df.head()"
      ],
      "metadata": {
        "colab": {
          "base_uri": "https://localhost:8080/",
          "height": 206
        },
        "id": "28mZJeLmaY_a",
        "outputId": "745b34c2-e307-4645-9221-41258968cdf6"
      },
      "execution_count": null,
      "outputs": [
        {
          "output_type": "execute_result",
          "data": {
            "text/plain": [
              "  first_name   second_name  team  element_type selected_by_percent  bonus  \\\n",
              "0     Cédric  Alves Soares     1             2                 0.3      0   \n",
              "1     Granit         Xhaka     1             3                 0.7      0   \n",
              "2    Mohamed        Elneny     1             3                 1.1      0   \n",
              "3        Rob       Holding     1             2                 0.2      0   \n",
              "4     Thomas        Partey     1             3                 0.6      0   \n",
              "\n",
              "   bps  minutes value_season  total_points creativity points_per_game  \\\n",
              "0    0        0          0.0             0        0.0             0.0   \n",
              "1   12       90          0.4             2       15.0             2.0   \n",
              "2    0        0          0.0             0        0.0             0.0   \n",
              "3    0        0          0.0             0        0.0             0.0   \n",
              "4   17       90          0.6             3       12.9             3.0   \n",
              "\n",
              "   now_cost  \n",
              "0        45  \n",
              "1        50  \n",
              "2        45  \n",
              "3        45  \n",
              "4        50  "
            ],
            "text/html": [
              "\n",
              "  <div id=\"df-fd500518-46c1-46f7-bed5-3ae23b37a1a4\">\n",
              "    <div class=\"colab-df-container\">\n",
              "      <div>\n",
              "<style scoped>\n",
              "    .dataframe tbody tr th:only-of-type {\n",
              "        vertical-align: middle;\n",
              "    }\n",
              "\n",
              "    .dataframe tbody tr th {\n",
              "        vertical-align: top;\n",
              "    }\n",
              "\n",
              "    .dataframe thead th {\n",
              "        text-align: right;\n",
              "    }\n",
              "</style>\n",
              "<table border=\"1\" class=\"dataframe\">\n",
              "  <thead>\n",
              "    <tr style=\"text-align: right;\">\n",
              "      <th></th>\n",
              "      <th>first_name</th>\n",
              "      <th>second_name</th>\n",
              "      <th>team</th>\n",
              "      <th>element_type</th>\n",
              "      <th>selected_by_percent</th>\n",
              "      <th>bonus</th>\n",
              "      <th>bps</th>\n",
              "      <th>minutes</th>\n",
              "      <th>value_season</th>\n",
              "      <th>total_points</th>\n",
              "      <th>creativity</th>\n",
              "      <th>points_per_game</th>\n",
              "      <th>now_cost</th>\n",
              "    </tr>\n",
              "  </thead>\n",
              "  <tbody>\n",
              "    <tr>\n",
              "      <th>0</th>\n",
              "      <td>Cédric</td>\n",
              "      <td>Alves Soares</td>\n",
              "      <td>1</td>\n",
              "      <td>2</td>\n",
              "      <td>0.3</td>\n",
              "      <td>0</td>\n",
              "      <td>0</td>\n",
              "      <td>0</td>\n",
              "      <td>0.0</td>\n",
              "      <td>0</td>\n",
              "      <td>0.0</td>\n",
              "      <td>0.0</td>\n",
              "      <td>45</td>\n",
              "    </tr>\n",
              "    <tr>\n",
              "      <th>1</th>\n",
              "      <td>Granit</td>\n",
              "      <td>Xhaka</td>\n",
              "      <td>1</td>\n",
              "      <td>3</td>\n",
              "      <td>0.7</td>\n",
              "      <td>0</td>\n",
              "      <td>12</td>\n",
              "      <td>90</td>\n",
              "      <td>0.4</td>\n",
              "      <td>2</td>\n",
              "      <td>15.0</td>\n",
              "      <td>2.0</td>\n",
              "      <td>50</td>\n",
              "    </tr>\n",
              "    <tr>\n",
              "      <th>2</th>\n",
              "      <td>Mohamed</td>\n",
              "      <td>Elneny</td>\n",
              "      <td>1</td>\n",
              "      <td>3</td>\n",
              "      <td>1.1</td>\n",
              "      <td>0</td>\n",
              "      <td>0</td>\n",
              "      <td>0</td>\n",
              "      <td>0.0</td>\n",
              "      <td>0</td>\n",
              "      <td>0.0</td>\n",
              "      <td>0.0</td>\n",
              "      <td>45</td>\n",
              "    </tr>\n",
              "    <tr>\n",
              "      <th>3</th>\n",
              "      <td>Rob</td>\n",
              "      <td>Holding</td>\n",
              "      <td>1</td>\n",
              "      <td>2</td>\n",
              "      <td>0.2</td>\n",
              "      <td>0</td>\n",
              "      <td>0</td>\n",
              "      <td>0</td>\n",
              "      <td>0.0</td>\n",
              "      <td>0</td>\n",
              "      <td>0.0</td>\n",
              "      <td>0.0</td>\n",
              "      <td>45</td>\n",
              "    </tr>\n",
              "    <tr>\n",
              "      <th>4</th>\n",
              "      <td>Thomas</td>\n",
              "      <td>Partey</td>\n",
              "      <td>1</td>\n",
              "      <td>3</td>\n",
              "      <td>0.6</td>\n",
              "      <td>0</td>\n",
              "      <td>17</td>\n",
              "      <td>90</td>\n",
              "      <td>0.6</td>\n",
              "      <td>3</td>\n",
              "      <td>12.9</td>\n",
              "      <td>3.0</td>\n",
              "      <td>50</td>\n",
              "    </tr>\n",
              "  </tbody>\n",
              "</table>\n",
              "</div>\n",
              "      <button class=\"colab-df-convert\" onclick=\"convertToInteractive('df-fd500518-46c1-46f7-bed5-3ae23b37a1a4')\"\n",
              "              title=\"Convert this dataframe to an interactive table.\"\n",
              "              style=\"display:none;\">\n",
              "        \n",
              "  <svg xmlns=\"http://www.w3.org/2000/svg\" height=\"24px\"viewBox=\"0 0 24 24\"\n",
              "       width=\"24px\">\n",
              "    <path d=\"M0 0h24v24H0V0z\" fill=\"none\"/>\n",
              "    <path d=\"M18.56 5.44l.94 2.06.94-2.06 2.06-.94-2.06-.94-.94-2.06-.94 2.06-2.06.94zm-11 1L8.5 8.5l.94-2.06 2.06-.94-2.06-.94L8.5 2.5l-.94 2.06-2.06.94zm10 10l.94 2.06.94-2.06 2.06-.94-2.06-.94-.94-2.06-.94 2.06-2.06.94z\"/><path d=\"M17.41 7.96l-1.37-1.37c-.4-.4-.92-.59-1.43-.59-.52 0-1.04.2-1.43.59L10.3 9.45l-7.72 7.72c-.78.78-.78 2.05 0 2.83L4 21.41c.39.39.9.59 1.41.59.51 0 1.02-.2 1.41-.59l7.78-7.78 2.81-2.81c.8-.78.8-2.07 0-2.86zM5.41 20L4 18.59l7.72-7.72 1.47 1.35L5.41 20z\"/>\n",
              "  </svg>\n",
              "      </button>\n",
              "      \n",
              "  <style>\n",
              "    .colab-df-container {\n",
              "      display:flex;\n",
              "      flex-wrap:wrap;\n",
              "      gap: 12px;\n",
              "    }\n",
              "\n",
              "    .colab-df-convert {\n",
              "      background-color: #E8F0FE;\n",
              "      border: none;\n",
              "      border-radius: 50%;\n",
              "      cursor: pointer;\n",
              "      display: none;\n",
              "      fill: #1967D2;\n",
              "      height: 32px;\n",
              "      padding: 0 0 0 0;\n",
              "      width: 32px;\n",
              "    }\n",
              "\n",
              "    .colab-df-convert:hover {\n",
              "      background-color: #E2EBFA;\n",
              "      box-shadow: 0px 1px 2px rgba(60, 64, 67, 0.3), 0px 1px 3px 1px rgba(60, 64, 67, 0.15);\n",
              "      fill: #174EA6;\n",
              "    }\n",
              "\n",
              "    [theme=dark] .colab-df-convert {\n",
              "      background-color: #3B4455;\n",
              "      fill: #D2E3FC;\n",
              "    }\n",
              "\n",
              "    [theme=dark] .colab-df-convert:hover {\n",
              "      background-color: #434B5C;\n",
              "      box-shadow: 0px 1px 3px 1px rgba(0, 0, 0, 0.15);\n",
              "      filter: drop-shadow(0px 1px 2px rgba(0, 0, 0, 0.3));\n",
              "      fill: #FFFFFF;\n",
              "    }\n",
              "  </style>\n",
              "\n",
              "      <script>\n",
              "        const buttonEl =\n",
              "          document.querySelector('#df-fd500518-46c1-46f7-bed5-3ae23b37a1a4 button.colab-df-convert');\n",
              "        buttonEl.style.display =\n",
              "          google.colab.kernel.accessAllowed ? 'block' : 'none';\n",
              "\n",
              "        async function convertToInteractive(key) {\n",
              "          const element = document.querySelector('#df-fd500518-46c1-46f7-bed5-3ae23b37a1a4');\n",
              "          const dataTable =\n",
              "            await google.colab.kernel.invokeFunction('convertToInteractive',\n",
              "                                                     [key], {});\n",
              "          if (!dataTable) return;\n",
              "\n",
              "          const docLinkHtml = 'Like what you see? Visit the ' +\n",
              "            '<a target=\"_blank\" href=https://colab.research.google.com/notebooks/data_table.ipynb>data table notebook</a>'\n",
              "            + ' to learn more about interactive tables.';\n",
              "          element.innerHTML = '';\n",
              "          dataTable['output_type'] = 'display_data';\n",
              "          await google.colab.output.renderOutput(dataTable, element);\n",
              "          const docLink = document.createElement('div');\n",
              "          docLink.innerHTML = docLinkHtml;\n",
              "          element.appendChild(docLink);\n",
              "        }\n",
              "      </script>\n",
              "    </div>\n",
              "  </div>\n",
              "  "
            ]
          },
          "metadata": {},
          "execution_count": 6
        }
      ]
    },
    {
      "cell_type": "markdown",
      "source": [
        "### 2.1 Data description"
      ],
      "metadata": {
        "id": "RGR3ViRAadYb"
      }
    },
    {
      "cell_type": "code",
      "source": [
        "# Lets quicly see the content of our df\n",
        "print(f'Data contain {fpl_df.shape[0]} records and {fpl_df.shape[1]} columns.')"
      ],
      "metadata": {
        "colab": {
          "base_uri": "https://localhost:8080/"
        },
        "id": "HOhLzKJ3ajeH",
        "outputId": "9931a353-1b31-4fc8-e99d-f8b4dc3bdc70"
      },
      "execution_count": null,
      "outputs": [
        {
          "output_type": "stream",
          "name": "stdout",
          "text": [
            "Data contain 573 records and 13 columns.\n"
          ]
        }
      ]
    },
    {
      "cell_type": "markdown",
      "source": [
        "### 2.2 Mapping of Columns to Club and Position"
      ],
      "metadata": {
        "id": "Lx25pQn_alrM"
      }
    },
    {
      "cell_type": "code",
      "source": [
        "# if we look at the data, the team (club) and element_type(position) of the players are keys to another table,\n",
        "# so we will be mapping the players to their position and clubs\n",
        "\n",
        "fpl_df['position'] = fpl_df.element_type.map(elements_types_df.set_index('id').singular_name)\n",
        "fpl_df['club'] = fpl_df.team.map(team.set_index('id').name)\n"
      ],
      "metadata": {
        "id": "Mb7bfFTHarwT"
      },
      "execution_count": null,
      "outputs": []
    },
    {
      "cell_type": "code",
      "source": [
        "fpl_df.head()"
      ],
      "metadata": {
        "colab": {
          "base_uri": "https://localhost:8080/",
          "height": 206
        },
        "id": "x0Y97lexazLq",
        "outputId": "7543a65f-0b84-4716-968f-537423224d50"
      },
      "execution_count": null,
      "outputs": [
        {
          "output_type": "execute_result",
          "data": {
            "text/plain": [
              "  first_name   second_name  team  element_type selected_by_percent  bonus  \\\n",
              "0     Cédric  Alves Soares     1             2                 0.3      0   \n",
              "1     Granit         Xhaka     1             3                 0.7      0   \n",
              "2    Mohamed        Elneny     1             3                 1.1      0   \n",
              "3        Rob       Holding     1             2                 0.2      0   \n",
              "4     Thomas        Partey     1             3                 0.6      0   \n",
              "\n",
              "   bps  minutes value_season  total_points creativity points_per_game  \\\n",
              "0    0        0          0.0             0        0.0             0.0   \n",
              "1   12       90          0.4             2       15.0             2.0   \n",
              "2    0        0          0.0             0        0.0             0.0   \n",
              "3    0        0          0.0             0        0.0             0.0   \n",
              "4   17       90          0.6             3       12.9             3.0   \n",
              "\n",
              "   now_cost    position     club  \n",
              "0        45    Defender  Arsenal  \n",
              "1        50  Midfielder  Arsenal  \n",
              "2        45  Midfielder  Arsenal  \n",
              "3        45    Defender  Arsenal  \n",
              "4        50  Midfielder  Arsenal  "
            ],
            "text/html": [
              "\n",
              "  <div id=\"df-8d7c8c67-c731-49e3-ba73-4686cd15821e\">\n",
              "    <div class=\"colab-df-container\">\n",
              "      <div>\n",
              "<style scoped>\n",
              "    .dataframe tbody tr th:only-of-type {\n",
              "        vertical-align: middle;\n",
              "    }\n",
              "\n",
              "    .dataframe tbody tr th {\n",
              "        vertical-align: top;\n",
              "    }\n",
              "\n",
              "    .dataframe thead th {\n",
              "        text-align: right;\n",
              "    }\n",
              "</style>\n",
              "<table border=\"1\" class=\"dataframe\">\n",
              "  <thead>\n",
              "    <tr style=\"text-align: right;\">\n",
              "      <th></th>\n",
              "      <th>first_name</th>\n",
              "      <th>second_name</th>\n",
              "      <th>team</th>\n",
              "      <th>element_type</th>\n",
              "      <th>selected_by_percent</th>\n",
              "      <th>bonus</th>\n",
              "      <th>bps</th>\n",
              "      <th>minutes</th>\n",
              "      <th>value_season</th>\n",
              "      <th>total_points</th>\n",
              "      <th>creativity</th>\n",
              "      <th>points_per_game</th>\n",
              "      <th>now_cost</th>\n",
              "      <th>position</th>\n",
              "      <th>club</th>\n",
              "    </tr>\n",
              "  </thead>\n",
              "  <tbody>\n",
              "    <tr>\n",
              "      <th>0</th>\n",
              "      <td>Cédric</td>\n",
              "      <td>Alves Soares</td>\n",
              "      <td>1</td>\n",
              "      <td>2</td>\n",
              "      <td>0.3</td>\n",
              "      <td>0</td>\n",
              "      <td>0</td>\n",
              "      <td>0</td>\n",
              "      <td>0.0</td>\n",
              "      <td>0</td>\n",
              "      <td>0.0</td>\n",
              "      <td>0.0</td>\n",
              "      <td>45</td>\n",
              "      <td>Defender</td>\n",
              "      <td>Arsenal</td>\n",
              "    </tr>\n",
              "    <tr>\n",
              "      <th>1</th>\n",
              "      <td>Granit</td>\n",
              "      <td>Xhaka</td>\n",
              "      <td>1</td>\n",
              "      <td>3</td>\n",
              "      <td>0.7</td>\n",
              "      <td>0</td>\n",
              "      <td>12</td>\n",
              "      <td>90</td>\n",
              "      <td>0.4</td>\n",
              "      <td>2</td>\n",
              "      <td>15.0</td>\n",
              "      <td>2.0</td>\n",
              "      <td>50</td>\n",
              "      <td>Midfielder</td>\n",
              "      <td>Arsenal</td>\n",
              "    </tr>\n",
              "    <tr>\n",
              "      <th>2</th>\n",
              "      <td>Mohamed</td>\n",
              "      <td>Elneny</td>\n",
              "      <td>1</td>\n",
              "      <td>3</td>\n",
              "      <td>1.1</td>\n",
              "      <td>0</td>\n",
              "      <td>0</td>\n",
              "      <td>0</td>\n",
              "      <td>0.0</td>\n",
              "      <td>0</td>\n",
              "      <td>0.0</td>\n",
              "      <td>0.0</td>\n",
              "      <td>45</td>\n",
              "      <td>Midfielder</td>\n",
              "      <td>Arsenal</td>\n",
              "    </tr>\n",
              "    <tr>\n",
              "      <th>3</th>\n",
              "      <td>Rob</td>\n",
              "      <td>Holding</td>\n",
              "      <td>1</td>\n",
              "      <td>2</td>\n",
              "      <td>0.2</td>\n",
              "      <td>0</td>\n",
              "      <td>0</td>\n",
              "      <td>0</td>\n",
              "      <td>0.0</td>\n",
              "      <td>0</td>\n",
              "      <td>0.0</td>\n",
              "      <td>0.0</td>\n",
              "      <td>45</td>\n",
              "      <td>Defender</td>\n",
              "      <td>Arsenal</td>\n",
              "    </tr>\n",
              "    <tr>\n",
              "      <th>4</th>\n",
              "      <td>Thomas</td>\n",
              "      <td>Partey</td>\n",
              "      <td>1</td>\n",
              "      <td>3</td>\n",
              "      <td>0.6</td>\n",
              "      <td>0</td>\n",
              "      <td>17</td>\n",
              "      <td>90</td>\n",
              "      <td>0.6</td>\n",
              "      <td>3</td>\n",
              "      <td>12.9</td>\n",
              "      <td>3.0</td>\n",
              "      <td>50</td>\n",
              "      <td>Midfielder</td>\n",
              "      <td>Arsenal</td>\n",
              "    </tr>\n",
              "  </tbody>\n",
              "</table>\n",
              "</div>\n",
              "      <button class=\"colab-df-convert\" onclick=\"convertToInteractive('df-8d7c8c67-c731-49e3-ba73-4686cd15821e')\"\n",
              "              title=\"Convert this dataframe to an interactive table.\"\n",
              "              style=\"display:none;\">\n",
              "        \n",
              "  <svg xmlns=\"http://www.w3.org/2000/svg\" height=\"24px\"viewBox=\"0 0 24 24\"\n",
              "       width=\"24px\">\n",
              "    <path d=\"M0 0h24v24H0V0z\" fill=\"none\"/>\n",
              "    <path d=\"M18.56 5.44l.94 2.06.94-2.06 2.06-.94-2.06-.94-.94-2.06-.94 2.06-2.06.94zm-11 1L8.5 8.5l.94-2.06 2.06-.94-2.06-.94L8.5 2.5l-.94 2.06-2.06.94zm10 10l.94 2.06.94-2.06 2.06-.94-2.06-.94-.94-2.06-.94 2.06-2.06.94z\"/><path d=\"M17.41 7.96l-1.37-1.37c-.4-.4-.92-.59-1.43-.59-.52 0-1.04.2-1.43.59L10.3 9.45l-7.72 7.72c-.78.78-.78 2.05 0 2.83L4 21.41c.39.39.9.59 1.41.59.51 0 1.02-.2 1.41-.59l7.78-7.78 2.81-2.81c.8-.78.8-2.07 0-2.86zM5.41 20L4 18.59l7.72-7.72 1.47 1.35L5.41 20z\"/>\n",
              "  </svg>\n",
              "      </button>\n",
              "      \n",
              "  <style>\n",
              "    .colab-df-container {\n",
              "      display:flex;\n",
              "      flex-wrap:wrap;\n",
              "      gap: 12px;\n",
              "    }\n",
              "\n",
              "    .colab-df-convert {\n",
              "      background-color: #E8F0FE;\n",
              "      border: none;\n",
              "      border-radius: 50%;\n",
              "      cursor: pointer;\n",
              "      display: none;\n",
              "      fill: #1967D2;\n",
              "      height: 32px;\n",
              "      padding: 0 0 0 0;\n",
              "      width: 32px;\n",
              "    }\n",
              "\n",
              "    .colab-df-convert:hover {\n",
              "      background-color: #E2EBFA;\n",
              "      box-shadow: 0px 1px 2px rgba(60, 64, 67, 0.3), 0px 1px 3px 1px rgba(60, 64, 67, 0.15);\n",
              "      fill: #174EA6;\n",
              "    }\n",
              "\n",
              "    [theme=dark] .colab-df-convert {\n",
              "      background-color: #3B4455;\n",
              "      fill: #D2E3FC;\n",
              "    }\n",
              "\n",
              "    [theme=dark] .colab-df-convert:hover {\n",
              "      background-color: #434B5C;\n",
              "      box-shadow: 0px 1px 3px 1px rgba(0, 0, 0, 0.15);\n",
              "      filter: drop-shadow(0px 1px 2px rgba(0, 0, 0, 0.3));\n",
              "      fill: #FFFFFF;\n",
              "    }\n",
              "  </style>\n",
              "\n",
              "      <script>\n",
              "        const buttonEl =\n",
              "          document.querySelector('#df-8d7c8c67-c731-49e3-ba73-4686cd15821e button.colab-df-convert');\n",
              "        buttonEl.style.display =\n",
              "          google.colab.kernel.accessAllowed ? 'block' : 'none';\n",
              "\n",
              "        async function convertToInteractive(key) {\n",
              "          const element = document.querySelector('#df-8d7c8c67-c731-49e3-ba73-4686cd15821e');\n",
              "          const dataTable =\n",
              "            await google.colab.kernel.invokeFunction('convertToInteractive',\n",
              "                                                     [key], {});\n",
              "          if (!dataTable) return;\n",
              "\n",
              "          const docLinkHtml = 'Like what you see? Visit the ' +\n",
              "            '<a target=\"_blank\" href=https://colab.research.google.com/notebooks/data_table.ipynb>data table notebook</a>'\n",
              "            + ' to learn more about interactive tables.';\n",
              "          element.innerHTML = '';\n",
              "          dataTable['output_type'] = 'display_data';\n",
              "          await google.colab.output.renderOutput(dataTable, element);\n",
              "          const docLink = document.createElement('div');\n",
              "          docLink.innerHTML = docLinkHtml;\n",
              "          element.appendChild(docLink);\n",
              "        }\n",
              "      </script>\n",
              "    </div>\n",
              "  </div>\n",
              "  "
            ]
          },
          "metadata": {},
          "execution_count": 9
        }
      ]
    },
    {
      "cell_type": "markdown",
      "source": [
        "### 2.3 Dropping Unwanted Columns"
      ],
      "metadata": {
        "id": "y_7fnpYYasyU"
      }
    },
    {
      "cell_type": "code",
      "source": [
        "# Lets drop our key columns\n",
        "\n",
        "fpl_df.drop(['element_type','team'],axis = 1, inplace = True)"
      ],
      "metadata": {
        "id": "3Zrg2Ck5a3vf"
      },
      "execution_count": null,
      "outputs": []
    },
    {
      "cell_type": "markdown",
      "source": [
        "### 2.4 Merge first_name and last_name columns"
      ],
      "metadata": {
        "id": "nexWfqvfa9X7"
      }
    },
    {
      "cell_type": "code",
      "source": [
        "# Some players may have similar first name or last name, merging the first and last name, will create a unique name value\n",
        "#Lets check the data type for the name columns\n",
        "type(fpl_df)\n",
        "fpl_df.info()"
      ],
      "metadata": {
        "colab": {
          "base_uri": "https://localhost:8080/"
        },
        "id": "37wjayCgbAQL",
        "outputId": "bdbad467-5b92-4249-f5ea-23beaef9c5c9"
      },
      "execution_count": null,
      "outputs": [
        {
          "output_type": "stream",
          "name": "stdout",
          "text": [
            "<class 'pandas.core.frame.DataFrame'>\n",
            "RangeIndex: 573 entries, 0 to 572\n",
            "Data columns (total 13 columns):\n",
            " #   Column               Non-Null Count  Dtype \n",
            "---  ------               --------------  ----- \n",
            " 0   first_name           573 non-null    object\n",
            " 1   second_name          573 non-null    object\n",
            " 2   selected_by_percent  573 non-null    object\n",
            " 3   bonus                573 non-null    int64 \n",
            " 4   bps                  573 non-null    int64 \n",
            " 5   minutes              573 non-null    int64 \n",
            " 6   value_season         573 non-null    object\n",
            " 7   total_points         573 non-null    int64 \n",
            " 8   creativity           573 non-null    object\n",
            " 9   points_per_game      573 non-null    object\n",
            " 10  now_cost             573 non-null    int64 \n",
            " 11  position             573 non-null    object\n",
            " 12  club                 573 non-null    object\n",
            "dtypes: int64(5), object(8)\n",
            "memory usage: 58.3+ KB\n"
          ]
        }
      ]
    },
    {
      "cell_type": "code",
      "source": [
        "# Both columns are object types so we can merge them\n",
        "fpl_df['name'] = fpl_df['first_name'] + ' ' +fpl_df['second_name']\n",
        "fpl_df.head()"
      ],
      "metadata": {
        "colab": {
          "base_uri": "https://localhost:8080/",
          "height": 206
        },
        "id": "aICuDyj-bDs8",
        "outputId": "e1308b3e-f009-4bfc-ea5e-666610091b09"
      },
      "execution_count": null,
      "outputs": [
        {
          "output_type": "execute_result",
          "data": {
            "text/plain": [
              "  first_name   second_name selected_by_percent  bonus  bps  minutes  \\\n",
              "0     Cédric  Alves Soares                 0.3      0    0        0   \n",
              "1     Granit         Xhaka                 0.7      0   12       90   \n",
              "2    Mohamed        Elneny                 1.1      0    0        0   \n",
              "3        Rob       Holding                 0.2      0    0        0   \n",
              "4     Thomas        Partey                 0.6      0   17       90   \n",
              "\n",
              "  value_season  total_points creativity points_per_game  now_cost    position  \\\n",
              "0          0.0             0        0.0             0.0        45    Defender   \n",
              "1          0.4             2       15.0             2.0        50  Midfielder   \n",
              "2          0.0             0        0.0             0.0        45  Midfielder   \n",
              "3          0.0             0        0.0             0.0        45    Defender   \n",
              "4          0.6             3       12.9             3.0        50  Midfielder   \n",
              "\n",
              "      club                 name  \n",
              "0  Arsenal  Cédric Alves Soares  \n",
              "1  Arsenal         Granit Xhaka  \n",
              "2  Arsenal       Mohamed Elneny  \n",
              "3  Arsenal          Rob Holding  \n",
              "4  Arsenal        Thomas Partey  "
            ],
            "text/html": [
              "\n",
              "  <div id=\"df-bf052383-e48d-41af-9027-7cdbc43a265c\">\n",
              "    <div class=\"colab-df-container\">\n",
              "      <div>\n",
              "<style scoped>\n",
              "    .dataframe tbody tr th:only-of-type {\n",
              "        vertical-align: middle;\n",
              "    }\n",
              "\n",
              "    .dataframe tbody tr th {\n",
              "        vertical-align: top;\n",
              "    }\n",
              "\n",
              "    .dataframe thead th {\n",
              "        text-align: right;\n",
              "    }\n",
              "</style>\n",
              "<table border=\"1\" class=\"dataframe\">\n",
              "  <thead>\n",
              "    <tr style=\"text-align: right;\">\n",
              "      <th></th>\n",
              "      <th>first_name</th>\n",
              "      <th>second_name</th>\n",
              "      <th>selected_by_percent</th>\n",
              "      <th>bonus</th>\n",
              "      <th>bps</th>\n",
              "      <th>minutes</th>\n",
              "      <th>value_season</th>\n",
              "      <th>total_points</th>\n",
              "      <th>creativity</th>\n",
              "      <th>points_per_game</th>\n",
              "      <th>now_cost</th>\n",
              "      <th>position</th>\n",
              "      <th>club</th>\n",
              "      <th>name</th>\n",
              "    </tr>\n",
              "  </thead>\n",
              "  <tbody>\n",
              "    <tr>\n",
              "      <th>0</th>\n",
              "      <td>Cédric</td>\n",
              "      <td>Alves Soares</td>\n",
              "      <td>0.3</td>\n",
              "      <td>0</td>\n",
              "      <td>0</td>\n",
              "      <td>0</td>\n",
              "      <td>0.0</td>\n",
              "      <td>0</td>\n",
              "      <td>0.0</td>\n",
              "      <td>0.0</td>\n",
              "      <td>45</td>\n",
              "      <td>Defender</td>\n",
              "      <td>Arsenal</td>\n",
              "      <td>Cédric Alves Soares</td>\n",
              "    </tr>\n",
              "    <tr>\n",
              "      <th>1</th>\n",
              "      <td>Granit</td>\n",
              "      <td>Xhaka</td>\n",
              "      <td>0.7</td>\n",
              "      <td>0</td>\n",
              "      <td>12</td>\n",
              "      <td>90</td>\n",
              "      <td>0.4</td>\n",
              "      <td>2</td>\n",
              "      <td>15.0</td>\n",
              "      <td>2.0</td>\n",
              "      <td>50</td>\n",
              "      <td>Midfielder</td>\n",
              "      <td>Arsenal</td>\n",
              "      <td>Granit Xhaka</td>\n",
              "    </tr>\n",
              "    <tr>\n",
              "      <th>2</th>\n",
              "      <td>Mohamed</td>\n",
              "      <td>Elneny</td>\n",
              "      <td>1.1</td>\n",
              "      <td>0</td>\n",
              "      <td>0</td>\n",
              "      <td>0</td>\n",
              "      <td>0.0</td>\n",
              "      <td>0</td>\n",
              "      <td>0.0</td>\n",
              "      <td>0.0</td>\n",
              "      <td>45</td>\n",
              "      <td>Midfielder</td>\n",
              "      <td>Arsenal</td>\n",
              "      <td>Mohamed Elneny</td>\n",
              "    </tr>\n",
              "    <tr>\n",
              "      <th>3</th>\n",
              "      <td>Rob</td>\n",
              "      <td>Holding</td>\n",
              "      <td>0.2</td>\n",
              "      <td>0</td>\n",
              "      <td>0</td>\n",
              "      <td>0</td>\n",
              "      <td>0.0</td>\n",
              "      <td>0</td>\n",
              "      <td>0.0</td>\n",
              "      <td>0.0</td>\n",
              "      <td>45</td>\n",
              "      <td>Defender</td>\n",
              "      <td>Arsenal</td>\n",
              "      <td>Rob Holding</td>\n",
              "    </tr>\n",
              "    <tr>\n",
              "      <th>4</th>\n",
              "      <td>Thomas</td>\n",
              "      <td>Partey</td>\n",
              "      <td>0.6</td>\n",
              "      <td>0</td>\n",
              "      <td>17</td>\n",
              "      <td>90</td>\n",
              "      <td>0.6</td>\n",
              "      <td>3</td>\n",
              "      <td>12.9</td>\n",
              "      <td>3.0</td>\n",
              "      <td>50</td>\n",
              "      <td>Midfielder</td>\n",
              "      <td>Arsenal</td>\n",
              "      <td>Thomas Partey</td>\n",
              "    </tr>\n",
              "  </tbody>\n",
              "</table>\n",
              "</div>\n",
              "      <button class=\"colab-df-convert\" onclick=\"convertToInteractive('df-bf052383-e48d-41af-9027-7cdbc43a265c')\"\n",
              "              title=\"Convert this dataframe to an interactive table.\"\n",
              "              style=\"display:none;\">\n",
              "        \n",
              "  <svg xmlns=\"http://www.w3.org/2000/svg\" height=\"24px\"viewBox=\"0 0 24 24\"\n",
              "       width=\"24px\">\n",
              "    <path d=\"M0 0h24v24H0V0z\" fill=\"none\"/>\n",
              "    <path d=\"M18.56 5.44l.94 2.06.94-2.06 2.06-.94-2.06-.94-.94-2.06-.94 2.06-2.06.94zm-11 1L8.5 8.5l.94-2.06 2.06-.94-2.06-.94L8.5 2.5l-.94 2.06-2.06.94zm10 10l.94 2.06.94-2.06 2.06-.94-2.06-.94-.94-2.06-.94 2.06-2.06.94z\"/><path d=\"M17.41 7.96l-1.37-1.37c-.4-.4-.92-.59-1.43-.59-.52 0-1.04.2-1.43.59L10.3 9.45l-7.72 7.72c-.78.78-.78 2.05 0 2.83L4 21.41c.39.39.9.59 1.41.59.51 0 1.02-.2 1.41-.59l7.78-7.78 2.81-2.81c.8-.78.8-2.07 0-2.86zM5.41 20L4 18.59l7.72-7.72 1.47 1.35L5.41 20z\"/>\n",
              "  </svg>\n",
              "      </button>\n",
              "      \n",
              "  <style>\n",
              "    .colab-df-container {\n",
              "      display:flex;\n",
              "      flex-wrap:wrap;\n",
              "      gap: 12px;\n",
              "    }\n",
              "\n",
              "    .colab-df-convert {\n",
              "      background-color: #E8F0FE;\n",
              "      border: none;\n",
              "      border-radius: 50%;\n",
              "      cursor: pointer;\n",
              "      display: none;\n",
              "      fill: #1967D2;\n",
              "      height: 32px;\n",
              "      padding: 0 0 0 0;\n",
              "      width: 32px;\n",
              "    }\n",
              "\n",
              "    .colab-df-convert:hover {\n",
              "      background-color: #E2EBFA;\n",
              "      box-shadow: 0px 1px 2px rgba(60, 64, 67, 0.3), 0px 1px 3px 1px rgba(60, 64, 67, 0.15);\n",
              "      fill: #174EA6;\n",
              "    }\n",
              "\n",
              "    [theme=dark] .colab-df-convert {\n",
              "      background-color: #3B4455;\n",
              "      fill: #D2E3FC;\n",
              "    }\n",
              "\n",
              "    [theme=dark] .colab-df-convert:hover {\n",
              "      background-color: #434B5C;\n",
              "      box-shadow: 0px 1px 3px 1px rgba(0, 0, 0, 0.15);\n",
              "      filter: drop-shadow(0px 1px 2px rgba(0, 0, 0, 0.3));\n",
              "      fill: #FFFFFF;\n",
              "    }\n",
              "  </style>\n",
              "\n",
              "      <script>\n",
              "        const buttonEl =\n",
              "          document.querySelector('#df-bf052383-e48d-41af-9027-7cdbc43a265c button.colab-df-convert');\n",
              "        buttonEl.style.display =\n",
              "          google.colab.kernel.accessAllowed ? 'block' : 'none';\n",
              "\n",
              "        async function convertToInteractive(key) {\n",
              "          const element = document.querySelector('#df-bf052383-e48d-41af-9027-7cdbc43a265c');\n",
              "          const dataTable =\n",
              "            await google.colab.kernel.invokeFunction('convertToInteractive',\n",
              "                                                     [key], {});\n",
              "          if (!dataTable) return;\n",
              "\n",
              "          const docLinkHtml = 'Like what you see? Visit the ' +\n",
              "            '<a target=\"_blank\" href=https://colab.research.google.com/notebooks/data_table.ipynb>data table notebook</a>'\n",
              "            + ' to learn more about interactive tables.';\n",
              "          element.innerHTML = '';\n",
              "          dataTable['output_type'] = 'display_data';\n",
              "          await google.colab.output.renderOutput(dataTable, element);\n",
              "          const docLink = document.createElement('div');\n",
              "          docLink.innerHTML = docLinkHtml;\n",
              "          element.appendChild(docLink);\n",
              "        }\n",
              "      </script>\n",
              "    </div>\n",
              "  </div>\n",
              "  "
            ]
          },
          "metadata": {},
          "execution_count": 12
        }
      ]
    },
    {
      "cell_type": "code",
      "source": [
        "# Drop the first name and second name column\n",
        "fpl_df = fpl_df.drop(['first_name','second_name','value_season'], axis = 1)"
      ],
      "metadata": {
        "id": "6ESdpaDybHVv"
      },
      "execution_count": null,
      "outputs": []
    },
    {
      "cell_type": "code",
      "source": [
        "fpl_df.head()"
      ],
      "metadata": {
        "colab": {
          "base_uri": "https://localhost:8080/",
          "height": 206
        },
        "id": "dfiV1maqbIH0",
        "outputId": "d49ddc13-e3f5-4353-883f-5bd6bf5af60f"
      },
      "execution_count": null,
      "outputs": [
        {
          "output_type": "execute_result",
          "data": {
            "text/plain": [
              "  selected_by_percent  bonus  bps  minutes  total_points creativity  \\\n",
              "0                 0.3      0    0        0             0        0.0   \n",
              "1                 0.7      0   12       90             2       15.0   \n",
              "2                 1.1      0    0        0             0        0.0   \n",
              "3                 0.2      0    0        0             0        0.0   \n",
              "4                 0.6      0   17       90             3       12.9   \n",
              "\n",
              "  points_per_game  now_cost    position     club                 name  \n",
              "0             0.0        45    Defender  Arsenal  Cédric Alves Soares  \n",
              "1             2.0        50  Midfielder  Arsenal         Granit Xhaka  \n",
              "2             0.0        45  Midfielder  Arsenal       Mohamed Elneny  \n",
              "3             0.0        45    Defender  Arsenal          Rob Holding  \n",
              "4             3.0        50  Midfielder  Arsenal        Thomas Partey  "
            ],
            "text/html": [
              "\n",
              "  <div id=\"df-73d88b2f-4873-4c23-bbda-59dca54f1b07\">\n",
              "    <div class=\"colab-df-container\">\n",
              "      <div>\n",
              "<style scoped>\n",
              "    .dataframe tbody tr th:only-of-type {\n",
              "        vertical-align: middle;\n",
              "    }\n",
              "\n",
              "    .dataframe tbody tr th {\n",
              "        vertical-align: top;\n",
              "    }\n",
              "\n",
              "    .dataframe thead th {\n",
              "        text-align: right;\n",
              "    }\n",
              "</style>\n",
              "<table border=\"1\" class=\"dataframe\">\n",
              "  <thead>\n",
              "    <tr style=\"text-align: right;\">\n",
              "      <th></th>\n",
              "      <th>selected_by_percent</th>\n",
              "      <th>bonus</th>\n",
              "      <th>bps</th>\n",
              "      <th>minutes</th>\n",
              "      <th>total_points</th>\n",
              "      <th>creativity</th>\n",
              "      <th>points_per_game</th>\n",
              "      <th>now_cost</th>\n",
              "      <th>position</th>\n",
              "      <th>club</th>\n",
              "      <th>name</th>\n",
              "    </tr>\n",
              "  </thead>\n",
              "  <tbody>\n",
              "    <tr>\n",
              "      <th>0</th>\n",
              "      <td>0.3</td>\n",
              "      <td>0</td>\n",
              "      <td>0</td>\n",
              "      <td>0</td>\n",
              "      <td>0</td>\n",
              "      <td>0.0</td>\n",
              "      <td>0.0</td>\n",
              "      <td>45</td>\n",
              "      <td>Defender</td>\n",
              "      <td>Arsenal</td>\n",
              "      <td>Cédric Alves Soares</td>\n",
              "    </tr>\n",
              "    <tr>\n",
              "      <th>1</th>\n",
              "      <td>0.7</td>\n",
              "      <td>0</td>\n",
              "      <td>12</td>\n",
              "      <td>90</td>\n",
              "      <td>2</td>\n",
              "      <td>15.0</td>\n",
              "      <td>2.0</td>\n",
              "      <td>50</td>\n",
              "      <td>Midfielder</td>\n",
              "      <td>Arsenal</td>\n",
              "      <td>Granit Xhaka</td>\n",
              "    </tr>\n",
              "    <tr>\n",
              "      <th>2</th>\n",
              "      <td>1.1</td>\n",
              "      <td>0</td>\n",
              "      <td>0</td>\n",
              "      <td>0</td>\n",
              "      <td>0</td>\n",
              "      <td>0.0</td>\n",
              "      <td>0.0</td>\n",
              "      <td>45</td>\n",
              "      <td>Midfielder</td>\n",
              "      <td>Arsenal</td>\n",
              "      <td>Mohamed Elneny</td>\n",
              "    </tr>\n",
              "    <tr>\n",
              "      <th>3</th>\n",
              "      <td>0.2</td>\n",
              "      <td>0</td>\n",
              "      <td>0</td>\n",
              "      <td>0</td>\n",
              "      <td>0</td>\n",
              "      <td>0.0</td>\n",
              "      <td>0.0</td>\n",
              "      <td>45</td>\n",
              "      <td>Defender</td>\n",
              "      <td>Arsenal</td>\n",
              "      <td>Rob Holding</td>\n",
              "    </tr>\n",
              "    <tr>\n",
              "      <th>4</th>\n",
              "      <td>0.6</td>\n",
              "      <td>0</td>\n",
              "      <td>17</td>\n",
              "      <td>90</td>\n",
              "      <td>3</td>\n",
              "      <td>12.9</td>\n",
              "      <td>3.0</td>\n",
              "      <td>50</td>\n",
              "      <td>Midfielder</td>\n",
              "      <td>Arsenal</td>\n",
              "      <td>Thomas Partey</td>\n",
              "    </tr>\n",
              "  </tbody>\n",
              "</table>\n",
              "</div>\n",
              "      <button class=\"colab-df-convert\" onclick=\"convertToInteractive('df-73d88b2f-4873-4c23-bbda-59dca54f1b07')\"\n",
              "              title=\"Convert this dataframe to an interactive table.\"\n",
              "              style=\"display:none;\">\n",
              "        \n",
              "  <svg xmlns=\"http://www.w3.org/2000/svg\" height=\"24px\"viewBox=\"0 0 24 24\"\n",
              "       width=\"24px\">\n",
              "    <path d=\"M0 0h24v24H0V0z\" fill=\"none\"/>\n",
              "    <path d=\"M18.56 5.44l.94 2.06.94-2.06 2.06-.94-2.06-.94-.94-2.06-.94 2.06-2.06.94zm-11 1L8.5 8.5l.94-2.06 2.06-.94-2.06-.94L8.5 2.5l-.94 2.06-2.06.94zm10 10l.94 2.06.94-2.06 2.06-.94-2.06-.94-.94-2.06-.94 2.06-2.06.94z\"/><path d=\"M17.41 7.96l-1.37-1.37c-.4-.4-.92-.59-1.43-.59-.52 0-1.04.2-1.43.59L10.3 9.45l-7.72 7.72c-.78.78-.78 2.05 0 2.83L4 21.41c.39.39.9.59 1.41.59.51 0 1.02-.2 1.41-.59l7.78-7.78 2.81-2.81c.8-.78.8-2.07 0-2.86zM5.41 20L4 18.59l7.72-7.72 1.47 1.35L5.41 20z\"/>\n",
              "  </svg>\n",
              "      </button>\n",
              "      \n",
              "  <style>\n",
              "    .colab-df-container {\n",
              "      display:flex;\n",
              "      flex-wrap:wrap;\n",
              "      gap: 12px;\n",
              "    }\n",
              "\n",
              "    .colab-df-convert {\n",
              "      background-color: #E8F0FE;\n",
              "      border: none;\n",
              "      border-radius: 50%;\n",
              "      cursor: pointer;\n",
              "      display: none;\n",
              "      fill: #1967D2;\n",
              "      height: 32px;\n",
              "      padding: 0 0 0 0;\n",
              "      width: 32px;\n",
              "    }\n",
              "\n",
              "    .colab-df-convert:hover {\n",
              "      background-color: #E2EBFA;\n",
              "      box-shadow: 0px 1px 2px rgba(60, 64, 67, 0.3), 0px 1px 3px 1px rgba(60, 64, 67, 0.15);\n",
              "      fill: #174EA6;\n",
              "    }\n",
              "\n",
              "    [theme=dark] .colab-df-convert {\n",
              "      background-color: #3B4455;\n",
              "      fill: #D2E3FC;\n",
              "    }\n",
              "\n",
              "    [theme=dark] .colab-df-convert:hover {\n",
              "      background-color: #434B5C;\n",
              "      box-shadow: 0px 1px 3px 1px rgba(0, 0, 0, 0.15);\n",
              "      filter: drop-shadow(0px 1px 2px rgba(0, 0, 0, 0.3));\n",
              "      fill: #FFFFFF;\n",
              "    }\n",
              "  </style>\n",
              "\n",
              "      <script>\n",
              "        const buttonEl =\n",
              "          document.querySelector('#df-73d88b2f-4873-4c23-bbda-59dca54f1b07 button.colab-df-convert');\n",
              "        buttonEl.style.display =\n",
              "          google.colab.kernel.accessAllowed ? 'block' : 'none';\n",
              "\n",
              "        async function convertToInteractive(key) {\n",
              "          const element = document.querySelector('#df-73d88b2f-4873-4c23-bbda-59dca54f1b07');\n",
              "          const dataTable =\n",
              "            await google.colab.kernel.invokeFunction('convertToInteractive',\n",
              "                                                     [key], {});\n",
              "          if (!dataTable) return;\n",
              "\n",
              "          const docLinkHtml = 'Like what you see? Visit the ' +\n",
              "            '<a target=\"_blank\" href=https://colab.research.google.com/notebooks/data_table.ipynb>data table notebook</a>'\n",
              "            + ' to learn more about interactive tables.';\n",
              "          element.innerHTML = '';\n",
              "          dataTable['output_type'] = 'display_data';\n",
              "          await google.colab.output.renderOutput(dataTable, element);\n",
              "          const docLink = document.createElement('div');\n",
              "          docLink.innerHTML = docLinkHtml;\n",
              "          element.appendChild(docLink);\n",
              "        }\n",
              "      </script>\n",
              "    </div>\n",
              "  </div>\n",
              "  "
            ]
          },
          "metadata": {},
          "execution_count": 14
        }
      ]
    },
    {
      "cell_type": "code",
      "source": [
        "fpl_df.dtypes"
      ],
      "metadata": {
        "colab": {
          "base_uri": "https://localhost:8080/"
        },
        "id": "lRZU32NsbP1a",
        "outputId": "7119d6c4-fe23-4f64-bf0b-aae56725b57f"
      },
      "execution_count": null,
      "outputs": [
        {
          "output_type": "execute_result",
          "data": {
            "text/plain": [
              "selected_by_percent    object\n",
              "bonus                   int64\n",
              "bps                     int64\n",
              "minutes                 int64\n",
              "total_points            int64\n",
              "creativity             object\n",
              "points_per_game        object\n",
              "now_cost                int64\n",
              "position               object\n",
              "club                   object\n",
              "name                   object\n",
              "dtype: object"
            ]
          },
          "metadata": {},
          "execution_count": 15
        }
      ]
    },
    {
      "cell_type": "markdown",
      "source": [
        "### 2.5 Change column datatype"
      ],
      "metadata": {
        "id": "i1snRFBFbQp0"
      }
    },
    {
      "cell_type": "code",
      "source": [
        "fpl_df.iloc[:,0:8] = fpl_df.iloc[:,0:8].astype('float')"
      ],
      "metadata": {
        "id": "whPZA7-CbUL-"
      },
      "execution_count": null,
      "outputs": []
    },
    {
      "cell_type": "code",
      "source": [
        "fpl_df.dtypes"
      ],
      "metadata": {
        "colab": {
          "base_uri": "https://localhost:8080/"
        },
        "id": "kDCCq-HEbW2U",
        "outputId": "c8816c0a-1c92-4f9b-b9fe-f89ef72632bf"
      },
      "execution_count": null,
      "outputs": [
        {
          "output_type": "execute_result",
          "data": {
            "text/plain": [
              "selected_by_percent    float64\n",
              "bonus                  float64\n",
              "bps                    float64\n",
              "minutes                float64\n",
              "total_points           float64\n",
              "creativity             float64\n",
              "points_per_game        float64\n",
              "now_cost               float64\n",
              "position                object\n",
              "club                    object\n",
              "name                    object\n",
              "dtype: object"
            ]
          },
          "metadata": {},
          "execution_count": 17
        }
      ]
    },
    {
      "cell_type": "markdown",
      "source": [
        "### 2.6 Check for misssing Data"
      ],
      "metadata": {
        "id": "4K3s6M2Gbbmg"
      }
    },
    {
      "cell_type": "code",
      "source": [
        "fpl_df.isnull().sum()"
      ],
      "metadata": {
        "colab": {
          "base_uri": "https://localhost:8080/"
        },
        "id": "_koz4UI5bdeQ",
        "outputId": "f516d2f7-12ba-4796-d49b-5ad21ad4c96f"
      },
      "execution_count": null,
      "outputs": [
        {
          "output_type": "execute_result",
          "data": {
            "text/plain": [
              "selected_by_percent    0\n",
              "bonus                  0\n",
              "bps                    0\n",
              "minutes                0\n",
              "total_points           0\n",
              "creativity             0\n",
              "points_per_game        0\n",
              "now_cost               0\n",
              "position               0\n",
              "club                   0\n",
              "name                   0\n",
              "dtype: int64"
            ]
          },
          "metadata": {},
          "execution_count": 18
        }
      ]
    },
    {
      "cell_type": "markdown",
      "source": [
        "### 2.7 Data Summary"
      ],
      "metadata": {
        "id": "j6jk46NObgGQ"
      }
    },
    {
      "cell_type": "code",
      "source": [
        "# Lets see the statistical summary for the columns of our dataset\n",
        "fpl_df.describe().T"
      ],
      "metadata": {
        "colab": {
          "base_uri": "https://localhost:8080/",
          "height": 300
        },
        "id": "5GBZpKJ8bi6e",
        "outputId": "0c0d2f4c-0a9d-4f99-9eca-115027da5df9"
      },
      "execution_count": null,
      "outputs": [
        {
          "output_type": "execute_result",
          "data": {
            "text/plain": [
              "                     count       mean        std   min   25%   50%   75%  \\\n",
              "selected_by_percent  573.0   2.616056   7.082530   0.0   0.1   0.4   1.5   \n",
              "bonus                573.0   0.108202   0.489918   0.0   0.0   0.0   0.0   \n",
              "bps                  573.0   6.356021   9.501690  -5.0   0.0   1.0  11.0   \n",
              "minutes              573.0  34.469459  40.862183   0.0   0.0   1.0  90.0   \n",
              "total_points         573.0   1.375218   2.460289  -2.0   0.0   0.0   2.0   \n",
              "creativity           573.0   5.146946  10.742033   0.0   0.0   0.0   3.4   \n",
              "points_per_game      573.0   1.375218   2.460289  -2.0   0.0   0.0   2.0   \n",
              "now_cost             573.0  51.012216  11.919230  40.0  45.0  45.0  55.0   \n",
              "\n",
              "                       max  \n",
              "selected_by_percent   73.8  \n",
              "bonus                  3.0  \n",
              "bps                   57.0  \n",
              "minutes               90.0  \n",
              "total_points          15.0  \n",
              "creativity            78.8  \n",
              "points_per_game       15.0  \n",
              "now_cost             130.0  "
            ],
            "text/html": [
              "\n",
              "  <div id=\"df-4335d47d-108a-46a8-8724-69fa27039851\">\n",
              "    <div class=\"colab-df-container\">\n",
              "      <div>\n",
              "<style scoped>\n",
              "    .dataframe tbody tr th:only-of-type {\n",
              "        vertical-align: middle;\n",
              "    }\n",
              "\n",
              "    .dataframe tbody tr th {\n",
              "        vertical-align: top;\n",
              "    }\n",
              "\n",
              "    .dataframe thead th {\n",
              "        text-align: right;\n",
              "    }\n",
              "</style>\n",
              "<table border=\"1\" class=\"dataframe\">\n",
              "  <thead>\n",
              "    <tr style=\"text-align: right;\">\n",
              "      <th></th>\n",
              "      <th>count</th>\n",
              "      <th>mean</th>\n",
              "      <th>std</th>\n",
              "      <th>min</th>\n",
              "      <th>25%</th>\n",
              "      <th>50%</th>\n",
              "      <th>75%</th>\n",
              "      <th>max</th>\n",
              "    </tr>\n",
              "  </thead>\n",
              "  <tbody>\n",
              "    <tr>\n",
              "      <th>selected_by_percent</th>\n",
              "      <td>573.0</td>\n",
              "      <td>2.616056</td>\n",
              "      <td>7.082530</td>\n",
              "      <td>0.0</td>\n",
              "      <td>0.1</td>\n",
              "      <td>0.4</td>\n",
              "      <td>1.5</td>\n",
              "      <td>73.8</td>\n",
              "    </tr>\n",
              "    <tr>\n",
              "      <th>bonus</th>\n",
              "      <td>573.0</td>\n",
              "      <td>0.108202</td>\n",
              "      <td>0.489918</td>\n",
              "      <td>0.0</td>\n",
              "      <td>0.0</td>\n",
              "      <td>0.0</td>\n",
              "      <td>0.0</td>\n",
              "      <td>3.0</td>\n",
              "    </tr>\n",
              "    <tr>\n",
              "      <th>bps</th>\n",
              "      <td>573.0</td>\n",
              "      <td>6.356021</td>\n",
              "      <td>9.501690</td>\n",
              "      <td>-5.0</td>\n",
              "      <td>0.0</td>\n",
              "      <td>1.0</td>\n",
              "      <td>11.0</td>\n",
              "      <td>57.0</td>\n",
              "    </tr>\n",
              "    <tr>\n",
              "      <th>minutes</th>\n",
              "      <td>573.0</td>\n",
              "      <td>34.469459</td>\n",
              "      <td>40.862183</td>\n",
              "      <td>0.0</td>\n",
              "      <td>0.0</td>\n",
              "      <td>1.0</td>\n",
              "      <td>90.0</td>\n",
              "      <td>90.0</td>\n",
              "    </tr>\n",
              "    <tr>\n",
              "      <th>total_points</th>\n",
              "      <td>573.0</td>\n",
              "      <td>1.375218</td>\n",
              "      <td>2.460289</td>\n",
              "      <td>-2.0</td>\n",
              "      <td>0.0</td>\n",
              "      <td>0.0</td>\n",
              "      <td>2.0</td>\n",
              "      <td>15.0</td>\n",
              "    </tr>\n",
              "    <tr>\n",
              "      <th>creativity</th>\n",
              "      <td>573.0</td>\n",
              "      <td>5.146946</td>\n",
              "      <td>10.742033</td>\n",
              "      <td>0.0</td>\n",
              "      <td>0.0</td>\n",
              "      <td>0.0</td>\n",
              "      <td>3.4</td>\n",
              "      <td>78.8</td>\n",
              "    </tr>\n",
              "    <tr>\n",
              "      <th>points_per_game</th>\n",
              "      <td>573.0</td>\n",
              "      <td>1.375218</td>\n",
              "      <td>2.460289</td>\n",
              "      <td>-2.0</td>\n",
              "      <td>0.0</td>\n",
              "      <td>0.0</td>\n",
              "      <td>2.0</td>\n",
              "      <td>15.0</td>\n",
              "    </tr>\n",
              "    <tr>\n",
              "      <th>now_cost</th>\n",
              "      <td>573.0</td>\n",
              "      <td>51.012216</td>\n",
              "      <td>11.919230</td>\n",
              "      <td>40.0</td>\n",
              "      <td>45.0</td>\n",
              "      <td>45.0</td>\n",
              "      <td>55.0</td>\n",
              "      <td>130.0</td>\n",
              "    </tr>\n",
              "  </tbody>\n",
              "</table>\n",
              "</div>\n",
              "      <button class=\"colab-df-convert\" onclick=\"convertToInteractive('df-4335d47d-108a-46a8-8724-69fa27039851')\"\n",
              "              title=\"Convert this dataframe to an interactive table.\"\n",
              "              style=\"display:none;\">\n",
              "        \n",
              "  <svg xmlns=\"http://www.w3.org/2000/svg\" height=\"24px\"viewBox=\"0 0 24 24\"\n",
              "       width=\"24px\">\n",
              "    <path d=\"M0 0h24v24H0V0z\" fill=\"none\"/>\n",
              "    <path d=\"M18.56 5.44l.94 2.06.94-2.06 2.06-.94-2.06-.94-.94-2.06-.94 2.06-2.06.94zm-11 1L8.5 8.5l.94-2.06 2.06-.94-2.06-.94L8.5 2.5l-.94 2.06-2.06.94zm10 10l.94 2.06.94-2.06 2.06-.94-2.06-.94-.94-2.06-.94 2.06-2.06.94z\"/><path d=\"M17.41 7.96l-1.37-1.37c-.4-.4-.92-.59-1.43-.59-.52 0-1.04.2-1.43.59L10.3 9.45l-7.72 7.72c-.78.78-.78 2.05 0 2.83L4 21.41c.39.39.9.59 1.41.59.51 0 1.02-.2 1.41-.59l7.78-7.78 2.81-2.81c.8-.78.8-2.07 0-2.86zM5.41 20L4 18.59l7.72-7.72 1.47 1.35L5.41 20z\"/>\n",
              "  </svg>\n",
              "      </button>\n",
              "      \n",
              "  <style>\n",
              "    .colab-df-container {\n",
              "      display:flex;\n",
              "      flex-wrap:wrap;\n",
              "      gap: 12px;\n",
              "    }\n",
              "\n",
              "    .colab-df-convert {\n",
              "      background-color: #E8F0FE;\n",
              "      border: none;\n",
              "      border-radius: 50%;\n",
              "      cursor: pointer;\n",
              "      display: none;\n",
              "      fill: #1967D2;\n",
              "      height: 32px;\n",
              "      padding: 0 0 0 0;\n",
              "      width: 32px;\n",
              "    }\n",
              "\n",
              "    .colab-df-convert:hover {\n",
              "      background-color: #E2EBFA;\n",
              "      box-shadow: 0px 1px 2px rgba(60, 64, 67, 0.3), 0px 1px 3px 1px rgba(60, 64, 67, 0.15);\n",
              "      fill: #174EA6;\n",
              "    }\n",
              "\n",
              "    [theme=dark] .colab-df-convert {\n",
              "      background-color: #3B4455;\n",
              "      fill: #D2E3FC;\n",
              "    }\n",
              "\n",
              "    [theme=dark] .colab-df-convert:hover {\n",
              "      background-color: #434B5C;\n",
              "      box-shadow: 0px 1px 3px 1px rgba(0, 0, 0, 0.15);\n",
              "      filter: drop-shadow(0px 1px 2px rgba(0, 0, 0, 0.3));\n",
              "      fill: #FFFFFF;\n",
              "    }\n",
              "  </style>\n",
              "\n",
              "      <script>\n",
              "        const buttonEl =\n",
              "          document.querySelector('#df-4335d47d-108a-46a8-8724-69fa27039851 button.colab-df-convert');\n",
              "        buttonEl.style.display =\n",
              "          google.colab.kernel.accessAllowed ? 'block' : 'none';\n",
              "\n",
              "        async function convertToInteractive(key) {\n",
              "          const element = document.querySelector('#df-4335d47d-108a-46a8-8724-69fa27039851');\n",
              "          const dataTable =\n",
              "            await google.colab.kernel.invokeFunction('convertToInteractive',\n",
              "                                                     [key], {});\n",
              "          if (!dataTable) return;\n",
              "\n",
              "          const docLinkHtml = 'Like what you see? Visit the ' +\n",
              "            '<a target=\"_blank\" href=https://colab.research.google.com/notebooks/data_table.ipynb>data table notebook</a>'\n",
              "            + ' to learn more about interactive tables.';\n",
              "          element.innerHTML = '';\n",
              "          dataTable['output_type'] = 'display_data';\n",
              "          await google.colab.output.renderOutput(dataTable, element);\n",
              "          const docLink = document.createElement('div');\n",
              "          docLink.innerHTML = docLinkHtml;\n",
              "          element.appendChild(docLink);\n",
              "        }\n",
              "      </script>\n",
              "    </div>\n",
              "  </div>\n",
              "  "
            ]
          },
          "metadata": {},
          "execution_count": 19
        }
      ]
    },
    {
      "cell_type": "code",
      "source": [
        "fpl_df.describe(include='object').T"
      ],
      "metadata": {
        "colab": {
          "base_uri": "https://localhost:8080/",
          "height": 143
        },
        "id": "Xdqu4c1KbnFd",
        "outputId": "00cbaf53-af22-4b85-d283-cc69133371da"
      },
      "execution_count": null,
      "outputs": [
        {
          "output_type": "execute_result",
          "data": {
            "text/plain": [
              "         count unique         top freq\n",
              "position   573      4  Midfielder  248\n",
              "club       573     20       Spurs   33\n",
              "name       573    572  Ben Davies    2"
            ],
            "text/html": [
              "\n",
              "  <div id=\"df-31c0b100-3319-4c39-999d-a540c07c6647\">\n",
              "    <div class=\"colab-df-container\">\n",
              "      <div>\n",
              "<style scoped>\n",
              "    .dataframe tbody tr th:only-of-type {\n",
              "        vertical-align: middle;\n",
              "    }\n",
              "\n",
              "    .dataframe tbody tr th {\n",
              "        vertical-align: top;\n",
              "    }\n",
              "\n",
              "    .dataframe thead th {\n",
              "        text-align: right;\n",
              "    }\n",
              "</style>\n",
              "<table border=\"1\" class=\"dataframe\">\n",
              "  <thead>\n",
              "    <tr style=\"text-align: right;\">\n",
              "      <th></th>\n",
              "      <th>count</th>\n",
              "      <th>unique</th>\n",
              "      <th>top</th>\n",
              "      <th>freq</th>\n",
              "    </tr>\n",
              "  </thead>\n",
              "  <tbody>\n",
              "    <tr>\n",
              "      <th>position</th>\n",
              "      <td>573</td>\n",
              "      <td>4</td>\n",
              "      <td>Midfielder</td>\n",
              "      <td>248</td>\n",
              "    </tr>\n",
              "    <tr>\n",
              "      <th>club</th>\n",
              "      <td>573</td>\n",
              "      <td>20</td>\n",
              "      <td>Spurs</td>\n",
              "      <td>33</td>\n",
              "    </tr>\n",
              "    <tr>\n",
              "      <th>name</th>\n",
              "      <td>573</td>\n",
              "      <td>572</td>\n",
              "      <td>Ben Davies</td>\n",
              "      <td>2</td>\n",
              "    </tr>\n",
              "  </tbody>\n",
              "</table>\n",
              "</div>\n",
              "      <button class=\"colab-df-convert\" onclick=\"convertToInteractive('df-31c0b100-3319-4c39-999d-a540c07c6647')\"\n",
              "              title=\"Convert this dataframe to an interactive table.\"\n",
              "              style=\"display:none;\">\n",
              "        \n",
              "  <svg xmlns=\"http://www.w3.org/2000/svg\" height=\"24px\"viewBox=\"0 0 24 24\"\n",
              "       width=\"24px\">\n",
              "    <path d=\"M0 0h24v24H0V0z\" fill=\"none\"/>\n",
              "    <path d=\"M18.56 5.44l.94 2.06.94-2.06 2.06-.94-2.06-.94-.94-2.06-.94 2.06-2.06.94zm-11 1L8.5 8.5l.94-2.06 2.06-.94-2.06-.94L8.5 2.5l-.94 2.06-2.06.94zm10 10l.94 2.06.94-2.06 2.06-.94-2.06-.94-.94-2.06-.94 2.06-2.06.94z\"/><path d=\"M17.41 7.96l-1.37-1.37c-.4-.4-.92-.59-1.43-.59-.52 0-1.04.2-1.43.59L10.3 9.45l-7.72 7.72c-.78.78-.78 2.05 0 2.83L4 21.41c.39.39.9.59 1.41.59.51 0 1.02-.2 1.41-.59l7.78-7.78 2.81-2.81c.8-.78.8-2.07 0-2.86zM5.41 20L4 18.59l7.72-7.72 1.47 1.35L5.41 20z\"/>\n",
              "  </svg>\n",
              "      </button>\n",
              "      \n",
              "  <style>\n",
              "    .colab-df-container {\n",
              "      display:flex;\n",
              "      flex-wrap:wrap;\n",
              "      gap: 12px;\n",
              "    }\n",
              "\n",
              "    .colab-df-convert {\n",
              "      background-color: #E8F0FE;\n",
              "      border: none;\n",
              "      border-radius: 50%;\n",
              "      cursor: pointer;\n",
              "      display: none;\n",
              "      fill: #1967D2;\n",
              "      height: 32px;\n",
              "      padding: 0 0 0 0;\n",
              "      width: 32px;\n",
              "    }\n",
              "\n",
              "    .colab-df-convert:hover {\n",
              "      background-color: #E2EBFA;\n",
              "      box-shadow: 0px 1px 2px rgba(60, 64, 67, 0.3), 0px 1px 3px 1px rgba(60, 64, 67, 0.15);\n",
              "      fill: #174EA6;\n",
              "    }\n",
              "\n",
              "    [theme=dark] .colab-df-convert {\n",
              "      background-color: #3B4455;\n",
              "      fill: #D2E3FC;\n",
              "    }\n",
              "\n",
              "    [theme=dark] .colab-df-convert:hover {\n",
              "      background-color: #434B5C;\n",
              "      box-shadow: 0px 1px 3px 1px rgba(0, 0, 0, 0.15);\n",
              "      filter: drop-shadow(0px 1px 2px rgba(0, 0, 0, 0.3));\n",
              "      fill: #FFFFFF;\n",
              "    }\n",
              "  </style>\n",
              "\n",
              "      <script>\n",
              "        const buttonEl =\n",
              "          document.querySelector('#df-31c0b100-3319-4c39-999d-a540c07c6647 button.colab-df-convert');\n",
              "        buttonEl.style.display =\n",
              "          google.colab.kernel.accessAllowed ? 'block' : 'none';\n",
              "\n",
              "        async function convertToInteractive(key) {\n",
              "          const element = document.querySelector('#df-31c0b100-3319-4c39-999d-a540c07c6647');\n",
              "          const dataTable =\n",
              "            await google.colab.kernel.invokeFunction('convertToInteractive',\n",
              "                                                     [key], {});\n",
              "          if (!dataTable) return;\n",
              "\n",
              "          const docLinkHtml = 'Like what you see? Visit the ' +\n",
              "            '<a target=\"_blank\" href=https://colab.research.google.com/notebooks/data_table.ipynb>data table notebook</a>'\n",
              "            + ' to learn more about interactive tables.';\n",
              "          element.innerHTML = '';\n",
              "          dataTable['output_type'] = 'display_data';\n",
              "          await google.colab.output.renderOutput(dataTable, element);\n",
              "          const docLink = document.createElement('div');\n",
              "          docLink.innerHTML = docLinkHtml;\n",
              "          element.appendChild(docLink);\n",
              "        }\n",
              "      </script>\n",
              "    </div>\n",
              "  </div>\n",
              "  "
            ]
          },
          "metadata": {},
          "execution_count": 20
        }
      ]
    },
    {
      "cell_type": "code",
      "source": [
        "fpl_df['club'].unique()"
      ],
      "metadata": {
        "colab": {
          "base_uri": "https://localhost:8080/"
        },
        "id": "fv-JyiUBbpni",
        "outputId": "51c1301c-d14c-462e-add5-48e150dbdc1a"
      },
      "execution_count": null,
      "outputs": [
        {
          "output_type": "execute_result",
          "data": {
            "text/plain": [
              "array(['Arsenal', 'Aston Villa', 'Bournemouth', 'Brentford', 'Brighton',\n",
              "       'Chelsea', 'Crystal Palace', 'Everton', 'Fulham', 'Leicester',\n",
              "       'Leeds', 'Liverpool', 'Man City', 'Man Utd', 'Newcastle',\n",
              "       \"Nott'm Forest\", 'Southampton', 'Spurs', 'West Ham', 'Wolves'],\n",
              "      dtype=object)"
            ]
          },
          "metadata": {},
          "execution_count": 21
        }
      ]
    },
    {
      "cell_type": "markdown",
      "source": [
        "### 2.8. Dropping Players with Zero minutes\n",
        "Apparently this is a recent dataset from FPL and it has been updated to reflect teams and players that recently got promoted to the EPL as well as newly transferred.\n",
        "So for the sake of this analysis, we will only be, using the data of players that played over 0 minutes in the league, last season and are still in the EPL this season."
      ],
      "metadata": {
        "id": "0jEPqtYEbwU0"
      }
    },
    {
      "cell_type": "code",
      "source": [
        "# Drop players with zero minutes played \n",
        "fpl_df=fpl_df.loc[fpl_df.minutes>0]"
      ],
      "metadata": {
        "id": "gckssPTsbxad"
      },
      "execution_count": null,
      "outputs": []
    },
    {
      "cell_type": "code",
      "source": [
        "fpl_df.head()"
      ],
      "metadata": {
        "colab": {
          "base_uri": "https://localhost:8080/",
          "height": 206
        },
        "id": "r33rcQ0ab11f",
        "outputId": "1f76463f-ae7d-4f80-b85c-b2dd31fe95aa"
      },
      "execution_count": null,
      "outputs": [
        {
          "output_type": "execute_result",
          "data": {
            "text/plain": [
              "   selected_by_percent  bonus   bps  minutes  total_points  creativity  \\\n",
              "1                  0.7    0.0  12.0     90.0           2.0        15.0   \n",
              "4                  0.6    0.0  17.0     90.0           3.0        12.9   \n",
              "5                 14.0    0.0   9.0     90.0           3.0         8.3   \n",
              "6                  1.2    0.0   3.0      7.0           1.0         0.2   \n",
              "8                  6.6    0.0  25.0     90.0           5.0        12.0   \n",
              "\n",
              "   points_per_game  now_cost    position     club             name  \n",
              "1              2.0      50.0  Midfielder  Arsenal     Granit Xhaka  \n",
              "4              3.0      50.0  Midfielder  Arsenal    Thomas Partey  \n",
              "5              3.0      65.0  Midfielder  Arsenal  Martin Ødegaard  \n",
              "6              1.0      50.0    Defender  Arsenal   Kieran Tierney  \n",
              "8              5.0      45.0    Defender  Arsenal   Benjamin White  "
            ],
            "text/html": [
              "\n",
              "  <div id=\"df-f9da5e5b-35c9-4540-8424-231f90a00c99\">\n",
              "    <div class=\"colab-df-container\">\n",
              "      <div>\n",
              "<style scoped>\n",
              "    .dataframe tbody tr th:only-of-type {\n",
              "        vertical-align: middle;\n",
              "    }\n",
              "\n",
              "    .dataframe tbody tr th {\n",
              "        vertical-align: top;\n",
              "    }\n",
              "\n",
              "    .dataframe thead th {\n",
              "        text-align: right;\n",
              "    }\n",
              "</style>\n",
              "<table border=\"1\" class=\"dataframe\">\n",
              "  <thead>\n",
              "    <tr style=\"text-align: right;\">\n",
              "      <th></th>\n",
              "      <th>selected_by_percent</th>\n",
              "      <th>bonus</th>\n",
              "      <th>bps</th>\n",
              "      <th>minutes</th>\n",
              "      <th>total_points</th>\n",
              "      <th>creativity</th>\n",
              "      <th>points_per_game</th>\n",
              "      <th>now_cost</th>\n",
              "      <th>position</th>\n",
              "      <th>club</th>\n",
              "      <th>name</th>\n",
              "    </tr>\n",
              "  </thead>\n",
              "  <tbody>\n",
              "    <tr>\n",
              "      <th>1</th>\n",
              "      <td>0.7</td>\n",
              "      <td>0.0</td>\n",
              "      <td>12.0</td>\n",
              "      <td>90.0</td>\n",
              "      <td>2.0</td>\n",
              "      <td>15.0</td>\n",
              "      <td>2.0</td>\n",
              "      <td>50.0</td>\n",
              "      <td>Midfielder</td>\n",
              "      <td>Arsenal</td>\n",
              "      <td>Granit Xhaka</td>\n",
              "    </tr>\n",
              "    <tr>\n",
              "      <th>4</th>\n",
              "      <td>0.6</td>\n",
              "      <td>0.0</td>\n",
              "      <td>17.0</td>\n",
              "      <td>90.0</td>\n",
              "      <td>3.0</td>\n",
              "      <td>12.9</td>\n",
              "      <td>3.0</td>\n",
              "      <td>50.0</td>\n",
              "      <td>Midfielder</td>\n",
              "      <td>Arsenal</td>\n",
              "      <td>Thomas Partey</td>\n",
              "    </tr>\n",
              "    <tr>\n",
              "      <th>5</th>\n",
              "      <td>14.0</td>\n",
              "      <td>0.0</td>\n",
              "      <td>9.0</td>\n",
              "      <td>90.0</td>\n",
              "      <td>3.0</td>\n",
              "      <td>8.3</td>\n",
              "      <td>3.0</td>\n",
              "      <td>65.0</td>\n",
              "      <td>Midfielder</td>\n",
              "      <td>Arsenal</td>\n",
              "      <td>Martin Ødegaard</td>\n",
              "    </tr>\n",
              "    <tr>\n",
              "      <th>6</th>\n",
              "      <td>1.2</td>\n",
              "      <td>0.0</td>\n",
              "      <td>3.0</td>\n",
              "      <td>7.0</td>\n",
              "      <td>1.0</td>\n",
              "      <td>0.2</td>\n",
              "      <td>1.0</td>\n",
              "      <td>50.0</td>\n",
              "      <td>Defender</td>\n",
              "      <td>Arsenal</td>\n",
              "      <td>Kieran Tierney</td>\n",
              "    </tr>\n",
              "    <tr>\n",
              "      <th>8</th>\n",
              "      <td>6.6</td>\n",
              "      <td>0.0</td>\n",
              "      <td>25.0</td>\n",
              "      <td>90.0</td>\n",
              "      <td>5.0</td>\n",
              "      <td>12.0</td>\n",
              "      <td>5.0</td>\n",
              "      <td>45.0</td>\n",
              "      <td>Defender</td>\n",
              "      <td>Arsenal</td>\n",
              "      <td>Benjamin White</td>\n",
              "    </tr>\n",
              "  </tbody>\n",
              "</table>\n",
              "</div>\n",
              "      <button class=\"colab-df-convert\" onclick=\"convertToInteractive('df-f9da5e5b-35c9-4540-8424-231f90a00c99')\"\n",
              "              title=\"Convert this dataframe to an interactive table.\"\n",
              "              style=\"display:none;\">\n",
              "        \n",
              "  <svg xmlns=\"http://www.w3.org/2000/svg\" height=\"24px\"viewBox=\"0 0 24 24\"\n",
              "       width=\"24px\">\n",
              "    <path d=\"M0 0h24v24H0V0z\" fill=\"none\"/>\n",
              "    <path d=\"M18.56 5.44l.94 2.06.94-2.06 2.06-.94-2.06-.94-.94-2.06-.94 2.06-2.06.94zm-11 1L8.5 8.5l.94-2.06 2.06-.94-2.06-.94L8.5 2.5l-.94 2.06-2.06.94zm10 10l.94 2.06.94-2.06 2.06-.94-2.06-.94-.94-2.06-.94 2.06-2.06.94z\"/><path d=\"M17.41 7.96l-1.37-1.37c-.4-.4-.92-.59-1.43-.59-.52 0-1.04.2-1.43.59L10.3 9.45l-7.72 7.72c-.78.78-.78 2.05 0 2.83L4 21.41c.39.39.9.59 1.41.59.51 0 1.02-.2 1.41-.59l7.78-7.78 2.81-2.81c.8-.78.8-2.07 0-2.86zM5.41 20L4 18.59l7.72-7.72 1.47 1.35L5.41 20z\"/>\n",
              "  </svg>\n",
              "      </button>\n",
              "      \n",
              "  <style>\n",
              "    .colab-df-container {\n",
              "      display:flex;\n",
              "      flex-wrap:wrap;\n",
              "      gap: 12px;\n",
              "    }\n",
              "\n",
              "    .colab-df-convert {\n",
              "      background-color: #E8F0FE;\n",
              "      border: none;\n",
              "      border-radius: 50%;\n",
              "      cursor: pointer;\n",
              "      display: none;\n",
              "      fill: #1967D2;\n",
              "      height: 32px;\n",
              "      padding: 0 0 0 0;\n",
              "      width: 32px;\n",
              "    }\n",
              "\n",
              "    .colab-df-convert:hover {\n",
              "      background-color: #E2EBFA;\n",
              "      box-shadow: 0px 1px 2px rgba(60, 64, 67, 0.3), 0px 1px 3px 1px rgba(60, 64, 67, 0.15);\n",
              "      fill: #174EA6;\n",
              "    }\n",
              "\n",
              "    [theme=dark] .colab-df-convert {\n",
              "      background-color: #3B4455;\n",
              "      fill: #D2E3FC;\n",
              "    }\n",
              "\n",
              "    [theme=dark] .colab-df-convert:hover {\n",
              "      background-color: #434B5C;\n",
              "      box-shadow: 0px 1px 3px 1px rgba(0, 0, 0, 0.15);\n",
              "      filter: drop-shadow(0px 1px 2px rgba(0, 0, 0, 0.3));\n",
              "      fill: #FFFFFF;\n",
              "    }\n",
              "  </style>\n",
              "\n",
              "      <script>\n",
              "        const buttonEl =\n",
              "          document.querySelector('#df-f9da5e5b-35c9-4540-8424-231f90a00c99 button.colab-df-convert');\n",
              "        buttonEl.style.display =\n",
              "          google.colab.kernel.accessAllowed ? 'block' : 'none';\n",
              "\n",
              "        async function convertToInteractive(key) {\n",
              "          const element = document.querySelector('#df-f9da5e5b-35c9-4540-8424-231f90a00c99');\n",
              "          const dataTable =\n",
              "            await google.colab.kernel.invokeFunction('convertToInteractive',\n",
              "                                                     [key], {});\n",
              "          if (!dataTable) return;\n",
              "\n",
              "          const docLinkHtml = 'Like what you see? Visit the ' +\n",
              "            '<a target=\"_blank\" href=https://colab.research.google.com/notebooks/data_table.ipynb>data table notebook</a>'\n",
              "            + ' to learn more about interactive tables.';\n",
              "          element.innerHTML = '';\n",
              "          dataTable['output_type'] = 'display_data';\n",
              "          await google.colab.output.renderOutput(dataTable, element);\n",
              "          const docLink = document.createElement('div');\n",
              "          docLink.innerHTML = docLinkHtml;\n",
              "          element.appendChild(docLink);\n",
              "        }\n",
              "      </script>\n",
              "    </div>\n",
              "  </div>\n",
              "  "
            ]
          },
          "metadata": {},
          "execution_count": 23
        }
      ]
    },
    {
      "cell_type": "code",
      "source": [
        "print(f'Data contain {fpl_df.shape[0]} records and {fpl_df.shape[1]} columns.')\n"
      ],
      "metadata": {
        "colab": {
          "base_uri": "https://localhost:8080/"
        },
        "id": "89qzE7Pub4Yw",
        "outputId": "522c6100-ff3c-4f99-ec8f-db4054d83d16"
      },
      "execution_count": null,
      "outputs": [
        {
          "output_type": "stream",
          "name": "stdout",
          "text": [
            "Data contain 297 records and 11 columns.\n"
          ]
        }
      ]
    },
    {
      "cell_type": "markdown",
      "source": [
        "From 536 records to 390, whew!! thats alot, imagine how that would have affected the mean."
      ],
      "metadata": {
        "id": "N8H8hnl-b-Mi"
      }
    },
    {
      "cell_type": "code",
      "source": [
        "fpl_df.describe().T"
      ],
      "metadata": {
        "colab": {
          "base_uri": "https://localhost:8080/",
          "height": 300
        },
        "id": "dSU2iNCkb_Vv",
        "outputId": "b699f18e-3bc9-4682-a036-af4af383e9fd"
      },
      "execution_count": null,
      "outputs": [
        {
          "output_type": "execute_result",
          "data": {
            "text/plain": [
              "                     count       mean        std   min   25%   50%   75%  \\\n",
              "selected_by_percent  297.0   4.543771   9.364779   0.0   0.3   1.1   4.2   \n",
              "bonus                297.0   0.208754   0.665403   0.0   0.0   0.0   0.0   \n",
              "bps                  297.0  12.262626  10.089049  -5.0   4.0  10.0  18.0   \n",
              "minutes              297.0  66.501684  33.003391   1.0  45.0  90.0  90.0   \n",
              "total_points         297.0   2.653199   2.880080  -2.0   1.0   2.0   3.0   \n",
              "creativity           297.0   9.929966  13.241229   0.0   0.5   3.1  15.8   \n",
              "points_per_game      297.0   2.653199   2.880080  -2.0   1.0   2.0   3.0   \n",
              "now_cost             297.0  54.898990  13.846037  40.0  45.0  50.0  55.0   \n",
              "\n",
              "                       max  \n",
              "selected_by_percent   73.8  \n",
              "bonus                  3.0  \n",
              "bps                   57.0  \n",
              "minutes               90.0  \n",
              "total_points          15.0  \n",
              "creativity            78.8  \n",
              "points_per_game       15.0  \n",
              "now_cost             130.0  "
            ],
            "text/html": [
              "\n",
              "  <div id=\"df-1e7b0f71-f23b-459e-9ae1-0e4deba3fe6e\">\n",
              "    <div class=\"colab-df-container\">\n",
              "      <div>\n",
              "<style scoped>\n",
              "    .dataframe tbody tr th:only-of-type {\n",
              "        vertical-align: middle;\n",
              "    }\n",
              "\n",
              "    .dataframe tbody tr th {\n",
              "        vertical-align: top;\n",
              "    }\n",
              "\n",
              "    .dataframe thead th {\n",
              "        text-align: right;\n",
              "    }\n",
              "</style>\n",
              "<table border=\"1\" class=\"dataframe\">\n",
              "  <thead>\n",
              "    <tr style=\"text-align: right;\">\n",
              "      <th></th>\n",
              "      <th>count</th>\n",
              "      <th>mean</th>\n",
              "      <th>std</th>\n",
              "      <th>min</th>\n",
              "      <th>25%</th>\n",
              "      <th>50%</th>\n",
              "      <th>75%</th>\n",
              "      <th>max</th>\n",
              "    </tr>\n",
              "  </thead>\n",
              "  <tbody>\n",
              "    <tr>\n",
              "      <th>selected_by_percent</th>\n",
              "      <td>297.0</td>\n",
              "      <td>4.543771</td>\n",
              "      <td>9.364779</td>\n",
              "      <td>0.0</td>\n",
              "      <td>0.3</td>\n",
              "      <td>1.1</td>\n",
              "      <td>4.2</td>\n",
              "      <td>73.8</td>\n",
              "    </tr>\n",
              "    <tr>\n",
              "      <th>bonus</th>\n",
              "      <td>297.0</td>\n",
              "      <td>0.208754</td>\n",
              "      <td>0.665403</td>\n",
              "      <td>0.0</td>\n",
              "      <td>0.0</td>\n",
              "      <td>0.0</td>\n",
              "      <td>0.0</td>\n",
              "      <td>3.0</td>\n",
              "    </tr>\n",
              "    <tr>\n",
              "      <th>bps</th>\n",
              "      <td>297.0</td>\n",
              "      <td>12.262626</td>\n",
              "      <td>10.089049</td>\n",
              "      <td>-5.0</td>\n",
              "      <td>4.0</td>\n",
              "      <td>10.0</td>\n",
              "      <td>18.0</td>\n",
              "      <td>57.0</td>\n",
              "    </tr>\n",
              "    <tr>\n",
              "      <th>minutes</th>\n",
              "      <td>297.0</td>\n",
              "      <td>66.501684</td>\n",
              "      <td>33.003391</td>\n",
              "      <td>1.0</td>\n",
              "      <td>45.0</td>\n",
              "      <td>90.0</td>\n",
              "      <td>90.0</td>\n",
              "      <td>90.0</td>\n",
              "    </tr>\n",
              "    <tr>\n",
              "      <th>total_points</th>\n",
              "      <td>297.0</td>\n",
              "      <td>2.653199</td>\n",
              "      <td>2.880080</td>\n",
              "      <td>-2.0</td>\n",
              "      <td>1.0</td>\n",
              "      <td>2.0</td>\n",
              "      <td>3.0</td>\n",
              "      <td>15.0</td>\n",
              "    </tr>\n",
              "    <tr>\n",
              "      <th>creativity</th>\n",
              "      <td>297.0</td>\n",
              "      <td>9.929966</td>\n",
              "      <td>13.241229</td>\n",
              "      <td>0.0</td>\n",
              "      <td>0.5</td>\n",
              "      <td>3.1</td>\n",
              "      <td>15.8</td>\n",
              "      <td>78.8</td>\n",
              "    </tr>\n",
              "    <tr>\n",
              "      <th>points_per_game</th>\n",
              "      <td>297.0</td>\n",
              "      <td>2.653199</td>\n",
              "      <td>2.880080</td>\n",
              "      <td>-2.0</td>\n",
              "      <td>1.0</td>\n",
              "      <td>2.0</td>\n",
              "      <td>3.0</td>\n",
              "      <td>15.0</td>\n",
              "    </tr>\n",
              "    <tr>\n",
              "      <th>now_cost</th>\n",
              "      <td>297.0</td>\n",
              "      <td>54.898990</td>\n",
              "      <td>13.846037</td>\n",
              "      <td>40.0</td>\n",
              "      <td>45.0</td>\n",
              "      <td>50.0</td>\n",
              "      <td>55.0</td>\n",
              "      <td>130.0</td>\n",
              "    </tr>\n",
              "  </tbody>\n",
              "</table>\n",
              "</div>\n",
              "      <button class=\"colab-df-convert\" onclick=\"convertToInteractive('df-1e7b0f71-f23b-459e-9ae1-0e4deba3fe6e')\"\n",
              "              title=\"Convert this dataframe to an interactive table.\"\n",
              "              style=\"display:none;\">\n",
              "        \n",
              "  <svg xmlns=\"http://www.w3.org/2000/svg\" height=\"24px\"viewBox=\"0 0 24 24\"\n",
              "       width=\"24px\">\n",
              "    <path d=\"M0 0h24v24H0V0z\" fill=\"none\"/>\n",
              "    <path d=\"M18.56 5.44l.94 2.06.94-2.06 2.06-.94-2.06-.94-.94-2.06-.94 2.06-2.06.94zm-11 1L8.5 8.5l.94-2.06 2.06-.94-2.06-.94L8.5 2.5l-.94 2.06-2.06.94zm10 10l.94 2.06.94-2.06 2.06-.94-2.06-.94-.94-2.06-.94 2.06-2.06.94z\"/><path d=\"M17.41 7.96l-1.37-1.37c-.4-.4-.92-.59-1.43-.59-.52 0-1.04.2-1.43.59L10.3 9.45l-7.72 7.72c-.78.78-.78 2.05 0 2.83L4 21.41c.39.39.9.59 1.41.59.51 0 1.02-.2 1.41-.59l7.78-7.78 2.81-2.81c.8-.78.8-2.07 0-2.86zM5.41 20L4 18.59l7.72-7.72 1.47 1.35L5.41 20z\"/>\n",
              "  </svg>\n",
              "      </button>\n",
              "      \n",
              "  <style>\n",
              "    .colab-df-container {\n",
              "      display:flex;\n",
              "      flex-wrap:wrap;\n",
              "      gap: 12px;\n",
              "    }\n",
              "\n",
              "    .colab-df-convert {\n",
              "      background-color: #E8F0FE;\n",
              "      border: none;\n",
              "      border-radius: 50%;\n",
              "      cursor: pointer;\n",
              "      display: none;\n",
              "      fill: #1967D2;\n",
              "      height: 32px;\n",
              "      padding: 0 0 0 0;\n",
              "      width: 32px;\n",
              "    }\n",
              "\n",
              "    .colab-df-convert:hover {\n",
              "      background-color: #E2EBFA;\n",
              "      box-shadow: 0px 1px 2px rgba(60, 64, 67, 0.3), 0px 1px 3px 1px rgba(60, 64, 67, 0.15);\n",
              "      fill: #174EA6;\n",
              "    }\n",
              "\n",
              "    [theme=dark] .colab-df-convert {\n",
              "      background-color: #3B4455;\n",
              "      fill: #D2E3FC;\n",
              "    }\n",
              "\n",
              "    [theme=dark] .colab-df-convert:hover {\n",
              "      background-color: #434B5C;\n",
              "      box-shadow: 0px 1px 3px 1px rgba(0, 0, 0, 0.15);\n",
              "      filter: drop-shadow(0px 1px 2px rgba(0, 0, 0, 0.3));\n",
              "      fill: #FFFFFF;\n",
              "    }\n",
              "  </style>\n",
              "\n",
              "      <script>\n",
              "        const buttonEl =\n",
              "          document.querySelector('#df-1e7b0f71-f23b-459e-9ae1-0e4deba3fe6e button.colab-df-convert');\n",
              "        buttonEl.style.display =\n",
              "          google.colab.kernel.accessAllowed ? 'block' : 'none';\n",
              "\n",
              "        async function convertToInteractive(key) {\n",
              "          const element = document.querySelector('#df-1e7b0f71-f23b-459e-9ae1-0e4deba3fe6e');\n",
              "          const dataTable =\n",
              "            await google.colab.kernel.invokeFunction('convertToInteractive',\n",
              "                                                     [key], {});\n",
              "          if (!dataTable) return;\n",
              "\n",
              "          const docLinkHtml = 'Like what you see? Visit the ' +\n",
              "            '<a target=\"_blank\" href=https://colab.research.google.com/notebooks/data_table.ipynb>data table notebook</a>'\n",
              "            + ' to learn more about interactive tables.';\n",
              "          element.innerHTML = '';\n",
              "          dataTable['output_type'] = 'display_data';\n",
              "          await google.colab.output.renderOutput(dataTable, element);\n",
              "          const docLink = document.createElement('div');\n",
              "          docLink.innerHTML = docLinkHtml;\n",
              "          element.appendChild(docLink);\n",
              "        }\n",
              "      </script>\n",
              "    </div>\n",
              "  </div>\n",
              "  "
            ]
          },
          "metadata": {},
          "execution_count": 25
        }
      ]
    },
    {
      "cell_type": "code",
      "source": [
        "fpl_df.describe(include='object').T"
      ],
      "metadata": {
        "colab": {
          "base_uri": "https://localhost:8080/",
          "height": 143
        },
        "id": "tSjOxyU8cCTi",
        "outputId": "583cb6a0-8e6a-40a7-b33a-8ac837520481"
      },
      "execution_count": null,
      "outputs": [
        {
          "output_type": "execute_result",
          "data": {
            "text/plain": [
              "         count unique           top freq\n",
              "position   297      4    Midfielder  141\n",
              "club       297     20     Newcastle   16\n",
              "name       297    297  Granit Xhaka    1"
            ],
            "text/html": [
              "\n",
              "  <div id=\"df-54667be6-6ec8-4b43-971e-524be289cfe8\">\n",
              "    <div class=\"colab-df-container\">\n",
              "      <div>\n",
              "<style scoped>\n",
              "    .dataframe tbody tr th:only-of-type {\n",
              "        vertical-align: middle;\n",
              "    }\n",
              "\n",
              "    .dataframe tbody tr th {\n",
              "        vertical-align: top;\n",
              "    }\n",
              "\n",
              "    .dataframe thead th {\n",
              "        text-align: right;\n",
              "    }\n",
              "</style>\n",
              "<table border=\"1\" class=\"dataframe\">\n",
              "  <thead>\n",
              "    <tr style=\"text-align: right;\">\n",
              "      <th></th>\n",
              "      <th>count</th>\n",
              "      <th>unique</th>\n",
              "      <th>top</th>\n",
              "      <th>freq</th>\n",
              "    </tr>\n",
              "  </thead>\n",
              "  <tbody>\n",
              "    <tr>\n",
              "      <th>position</th>\n",
              "      <td>297</td>\n",
              "      <td>4</td>\n",
              "      <td>Midfielder</td>\n",
              "      <td>141</td>\n",
              "    </tr>\n",
              "    <tr>\n",
              "      <th>club</th>\n",
              "      <td>297</td>\n",
              "      <td>20</td>\n",
              "      <td>Newcastle</td>\n",
              "      <td>16</td>\n",
              "    </tr>\n",
              "    <tr>\n",
              "      <th>name</th>\n",
              "      <td>297</td>\n",
              "      <td>297</td>\n",
              "      <td>Granit Xhaka</td>\n",
              "      <td>1</td>\n",
              "    </tr>\n",
              "  </tbody>\n",
              "</table>\n",
              "</div>\n",
              "      <button class=\"colab-df-convert\" onclick=\"convertToInteractive('df-54667be6-6ec8-4b43-971e-524be289cfe8')\"\n",
              "              title=\"Convert this dataframe to an interactive table.\"\n",
              "              style=\"display:none;\">\n",
              "        \n",
              "  <svg xmlns=\"http://www.w3.org/2000/svg\" height=\"24px\"viewBox=\"0 0 24 24\"\n",
              "       width=\"24px\">\n",
              "    <path d=\"M0 0h24v24H0V0z\" fill=\"none\"/>\n",
              "    <path d=\"M18.56 5.44l.94 2.06.94-2.06 2.06-.94-2.06-.94-.94-2.06-.94 2.06-2.06.94zm-11 1L8.5 8.5l.94-2.06 2.06-.94-2.06-.94L8.5 2.5l-.94 2.06-2.06.94zm10 10l.94 2.06.94-2.06 2.06-.94-2.06-.94-.94-2.06-.94 2.06-2.06.94z\"/><path d=\"M17.41 7.96l-1.37-1.37c-.4-.4-.92-.59-1.43-.59-.52 0-1.04.2-1.43.59L10.3 9.45l-7.72 7.72c-.78.78-.78 2.05 0 2.83L4 21.41c.39.39.9.59 1.41.59.51 0 1.02-.2 1.41-.59l7.78-7.78 2.81-2.81c.8-.78.8-2.07 0-2.86zM5.41 20L4 18.59l7.72-7.72 1.47 1.35L5.41 20z\"/>\n",
              "  </svg>\n",
              "      </button>\n",
              "      \n",
              "  <style>\n",
              "    .colab-df-container {\n",
              "      display:flex;\n",
              "      flex-wrap:wrap;\n",
              "      gap: 12px;\n",
              "    }\n",
              "\n",
              "    .colab-df-convert {\n",
              "      background-color: #E8F0FE;\n",
              "      border: none;\n",
              "      border-radius: 50%;\n",
              "      cursor: pointer;\n",
              "      display: none;\n",
              "      fill: #1967D2;\n",
              "      height: 32px;\n",
              "      padding: 0 0 0 0;\n",
              "      width: 32px;\n",
              "    }\n",
              "\n",
              "    .colab-df-convert:hover {\n",
              "      background-color: #E2EBFA;\n",
              "      box-shadow: 0px 1px 2px rgba(60, 64, 67, 0.3), 0px 1px 3px 1px rgba(60, 64, 67, 0.15);\n",
              "      fill: #174EA6;\n",
              "    }\n",
              "\n",
              "    [theme=dark] .colab-df-convert {\n",
              "      background-color: #3B4455;\n",
              "      fill: #D2E3FC;\n",
              "    }\n",
              "\n",
              "    [theme=dark] .colab-df-convert:hover {\n",
              "      background-color: #434B5C;\n",
              "      box-shadow: 0px 1px 3px 1px rgba(0, 0, 0, 0.15);\n",
              "      filter: drop-shadow(0px 1px 2px rgba(0, 0, 0, 0.3));\n",
              "      fill: #FFFFFF;\n",
              "    }\n",
              "  </style>\n",
              "\n",
              "      <script>\n",
              "        const buttonEl =\n",
              "          document.querySelector('#df-54667be6-6ec8-4b43-971e-524be289cfe8 button.colab-df-convert');\n",
              "        buttonEl.style.display =\n",
              "          google.colab.kernel.accessAllowed ? 'block' : 'none';\n",
              "\n",
              "        async function convertToInteractive(key) {\n",
              "          const element = document.querySelector('#df-54667be6-6ec8-4b43-971e-524be289cfe8');\n",
              "          const dataTable =\n",
              "            await google.colab.kernel.invokeFunction('convertToInteractive',\n",
              "                                                     [key], {});\n",
              "          if (!dataTable) return;\n",
              "\n",
              "          const docLinkHtml = 'Like what you see? Visit the ' +\n",
              "            '<a target=\"_blank\" href=https://colab.research.google.com/notebooks/data_table.ipynb>data table notebook</a>'\n",
              "            + ' to learn more about interactive tables.';\n",
              "          element.innerHTML = '';\n",
              "          dataTable['output_type'] = 'display_data';\n",
              "          await google.colab.output.renderOutput(dataTable, element);\n",
              "          const docLink = document.createElement('div');\n",
              "          docLink.innerHTML = docLinkHtml;\n",
              "          element.appendChild(docLink);\n",
              "        }\n",
              "      </script>\n",
              "    </div>\n",
              "  </div>\n",
              "  "
            ]
          },
          "metadata": {},
          "execution_count": 26
        }
      ]
    },
    {
      "cell_type": "markdown",
      "source": [
        "### Variable description \n",
        "\n",
        "Selected by percent: Player ownership percentage.\n",
        "\n",
        "**Bonus**: Bonus points.\n",
        "\n",
        "**BPS**: Bonus Points System.\n",
        "\n",
        "**Minutes**: Minuutes played.\n",
        "\n",
        "**Total points**: Total points recieved.\n",
        "\n",
        "**Creativity**: Player performance in terms of producing goalscoring opportunities for others.\n",
        "\n",
        "**Points per game**: Average points recieved per games.\n",
        "\n",
        "**Now Cost** : Current Price of player\n",
        "\n",
        "**Position**: Player position.\n",
        "\n",
        "**Club**: Player Club\n",
        "\n",
        "**Name**: Players Name"
      ],
      "metadata": {
        "id": "dVu4pxIvcBy1"
      }
    },
    {
      "cell_type": "markdown",
      "source": [
        "# 3. Exploratory Data Analysis"
      ],
      "metadata": {
        "id": "O4LAWUdjcL5b"
      }
    },
    {
      "cell_type": "code",
      "source": [
        "fpl_df.head()"
      ],
      "metadata": {
        "colab": {
          "base_uri": "https://localhost:8080/",
          "height": 206
        },
        "id": "94UTXPimd7Hb",
        "outputId": "b27855bb-03c6-4e7a-bf53-498decbc7a33"
      },
      "execution_count": null,
      "outputs": [
        {
          "output_type": "execute_result",
          "data": {
            "text/plain": [
              "   selected_by_percent  bonus   bps  minutes  total_points  creativity  \\\n",
              "1                  0.7    0.0  12.0     90.0           2.0        15.0   \n",
              "4                  0.6    0.0  17.0     90.0           3.0        12.9   \n",
              "5                 14.0    0.0   9.0     90.0           3.0         8.3   \n",
              "6                  1.2    0.0   3.0      7.0           1.0         0.2   \n",
              "8                  6.6    0.0  25.0     90.0           5.0        12.0   \n",
              "\n",
              "   points_per_game  now_cost    position     club             name  \n",
              "1              2.0      50.0  Midfielder  Arsenal     Granit Xhaka  \n",
              "4              3.0      50.0  Midfielder  Arsenal    Thomas Partey  \n",
              "5              3.0      65.0  Midfielder  Arsenal  Martin Ødegaard  \n",
              "6              1.0      50.0    Defender  Arsenal   Kieran Tierney  \n",
              "8              5.0      45.0    Defender  Arsenal   Benjamin White  "
            ],
            "text/html": [
              "\n",
              "  <div id=\"df-2e2dd9c9-8dfb-4112-8f67-2da8bbdc1247\">\n",
              "    <div class=\"colab-df-container\">\n",
              "      <div>\n",
              "<style scoped>\n",
              "    .dataframe tbody tr th:only-of-type {\n",
              "        vertical-align: middle;\n",
              "    }\n",
              "\n",
              "    .dataframe tbody tr th {\n",
              "        vertical-align: top;\n",
              "    }\n",
              "\n",
              "    .dataframe thead th {\n",
              "        text-align: right;\n",
              "    }\n",
              "</style>\n",
              "<table border=\"1\" class=\"dataframe\">\n",
              "  <thead>\n",
              "    <tr style=\"text-align: right;\">\n",
              "      <th></th>\n",
              "      <th>selected_by_percent</th>\n",
              "      <th>bonus</th>\n",
              "      <th>bps</th>\n",
              "      <th>minutes</th>\n",
              "      <th>total_points</th>\n",
              "      <th>creativity</th>\n",
              "      <th>points_per_game</th>\n",
              "      <th>now_cost</th>\n",
              "      <th>position</th>\n",
              "      <th>club</th>\n",
              "      <th>name</th>\n",
              "    </tr>\n",
              "  </thead>\n",
              "  <tbody>\n",
              "    <tr>\n",
              "      <th>1</th>\n",
              "      <td>0.7</td>\n",
              "      <td>0.0</td>\n",
              "      <td>12.0</td>\n",
              "      <td>90.0</td>\n",
              "      <td>2.0</td>\n",
              "      <td>15.0</td>\n",
              "      <td>2.0</td>\n",
              "      <td>50.0</td>\n",
              "      <td>Midfielder</td>\n",
              "      <td>Arsenal</td>\n",
              "      <td>Granit Xhaka</td>\n",
              "    </tr>\n",
              "    <tr>\n",
              "      <th>4</th>\n",
              "      <td>0.6</td>\n",
              "      <td>0.0</td>\n",
              "      <td>17.0</td>\n",
              "      <td>90.0</td>\n",
              "      <td>3.0</td>\n",
              "      <td>12.9</td>\n",
              "      <td>3.0</td>\n",
              "      <td>50.0</td>\n",
              "      <td>Midfielder</td>\n",
              "      <td>Arsenal</td>\n",
              "      <td>Thomas Partey</td>\n",
              "    </tr>\n",
              "    <tr>\n",
              "      <th>5</th>\n",
              "      <td>14.0</td>\n",
              "      <td>0.0</td>\n",
              "      <td>9.0</td>\n",
              "      <td>90.0</td>\n",
              "      <td>3.0</td>\n",
              "      <td>8.3</td>\n",
              "      <td>3.0</td>\n",
              "      <td>65.0</td>\n",
              "      <td>Midfielder</td>\n",
              "      <td>Arsenal</td>\n",
              "      <td>Martin Ødegaard</td>\n",
              "    </tr>\n",
              "    <tr>\n",
              "      <th>6</th>\n",
              "      <td>1.2</td>\n",
              "      <td>0.0</td>\n",
              "      <td>3.0</td>\n",
              "      <td>7.0</td>\n",
              "      <td>1.0</td>\n",
              "      <td>0.2</td>\n",
              "      <td>1.0</td>\n",
              "      <td>50.0</td>\n",
              "      <td>Defender</td>\n",
              "      <td>Arsenal</td>\n",
              "      <td>Kieran Tierney</td>\n",
              "    </tr>\n",
              "    <tr>\n",
              "      <th>8</th>\n",
              "      <td>6.6</td>\n",
              "      <td>0.0</td>\n",
              "      <td>25.0</td>\n",
              "      <td>90.0</td>\n",
              "      <td>5.0</td>\n",
              "      <td>12.0</td>\n",
              "      <td>5.0</td>\n",
              "      <td>45.0</td>\n",
              "      <td>Defender</td>\n",
              "      <td>Arsenal</td>\n",
              "      <td>Benjamin White</td>\n",
              "    </tr>\n",
              "  </tbody>\n",
              "</table>\n",
              "</div>\n",
              "      <button class=\"colab-df-convert\" onclick=\"convertToInteractive('df-2e2dd9c9-8dfb-4112-8f67-2da8bbdc1247')\"\n",
              "              title=\"Convert this dataframe to an interactive table.\"\n",
              "              style=\"display:none;\">\n",
              "        \n",
              "  <svg xmlns=\"http://www.w3.org/2000/svg\" height=\"24px\"viewBox=\"0 0 24 24\"\n",
              "       width=\"24px\">\n",
              "    <path d=\"M0 0h24v24H0V0z\" fill=\"none\"/>\n",
              "    <path d=\"M18.56 5.44l.94 2.06.94-2.06 2.06-.94-2.06-.94-.94-2.06-.94 2.06-2.06.94zm-11 1L8.5 8.5l.94-2.06 2.06-.94-2.06-.94L8.5 2.5l-.94 2.06-2.06.94zm10 10l.94 2.06.94-2.06 2.06-.94-2.06-.94-.94-2.06-.94 2.06-2.06.94z\"/><path d=\"M17.41 7.96l-1.37-1.37c-.4-.4-.92-.59-1.43-.59-.52 0-1.04.2-1.43.59L10.3 9.45l-7.72 7.72c-.78.78-.78 2.05 0 2.83L4 21.41c.39.39.9.59 1.41.59.51 0 1.02-.2 1.41-.59l7.78-7.78 2.81-2.81c.8-.78.8-2.07 0-2.86zM5.41 20L4 18.59l7.72-7.72 1.47 1.35L5.41 20z\"/>\n",
              "  </svg>\n",
              "      </button>\n",
              "      \n",
              "  <style>\n",
              "    .colab-df-container {\n",
              "      display:flex;\n",
              "      flex-wrap:wrap;\n",
              "      gap: 12px;\n",
              "    }\n",
              "\n",
              "    .colab-df-convert {\n",
              "      background-color: #E8F0FE;\n",
              "      border: none;\n",
              "      border-radius: 50%;\n",
              "      cursor: pointer;\n",
              "      display: none;\n",
              "      fill: #1967D2;\n",
              "      height: 32px;\n",
              "      padding: 0 0 0 0;\n",
              "      width: 32px;\n",
              "    }\n",
              "\n",
              "    .colab-df-convert:hover {\n",
              "      background-color: #E2EBFA;\n",
              "      box-shadow: 0px 1px 2px rgba(60, 64, 67, 0.3), 0px 1px 3px 1px rgba(60, 64, 67, 0.15);\n",
              "      fill: #174EA6;\n",
              "    }\n",
              "\n",
              "    [theme=dark] .colab-df-convert {\n",
              "      background-color: #3B4455;\n",
              "      fill: #D2E3FC;\n",
              "    }\n",
              "\n",
              "    [theme=dark] .colab-df-convert:hover {\n",
              "      background-color: #434B5C;\n",
              "      box-shadow: 0px 1px 3px 1px rgba(0, 0, 0, 0.15);\n",
              "      filter: drop-shadow(0px 1px 2px rgba(0, 0, 0, 0.3));\n",
              "      fill: #FFFFFF;\n",
              "    }\n",
              "  </style>\n",
              "\n",
              "      <script>\n",
              "        const buttonEl =\n",
              "          document.querySelector('#df-2e2dd9c9-8dfb-4112-8f67-2da8bbdc1247 button.colab-df-convert');\n",
              "        buttonEl.style.display =\n",
              "          google.colab.kernel.accessAllowed ? 'block' : 'none';\n",
              "\n",
              "        async function convertToInteractive(key) {\n",
              "          const element = document.querySelector('#df-2e2dd9c9-8dfb-4112-8f67-2da8bbdc1247');\n",
              "          const dataTable =\n",
              "            await google.colab.kernel.invokeFunction('convertToInteractive',\n",
              "                                                     [key], {});\n",
              "          if (!dataTable) return;\n",
              "\n",
              "          const docLinkHtml = 'Like what you see? Visit the ' +\n",
              "            '<a target=\"_blank\" href=https://colab.research.google.com/notebooks/data_table.ipynb>data table notebook</a>'\n",
              "            + ' to learn more about interactive tables.';\n",
              "          element.innerHTML = '';\n",
              "          dataTable['output_type'] = 'display_data';\n",
              "          await google.colab.output.renderOutput(dataTable, element);\n",
              "          const docLink = document.createElement('div');\n",
              "          docLink.innerHTML = docLinkHtml;\n",
              "          element.appendChild(docLink);\n",
              "        }\n",
              "      </script>\n",
              "    </div>\n",
              "  </div>\n",
              "  "
            ]
          },
          "metadata": {},
          "execution_count": 27
        }
      ]
    },
    {
      "cell_type": "code",
      "source": [
        "type(fpl_df)"
      ],
      "metadata": {
        "colab": {
          "base_uri": "https://localhost:8080/"
        },
        "id": "pj3LK1ZojlBX",
        "outputId": "0ead8c92-7a9d-433a-d40c-c3197ffd9957"
      },
      "execution_count": null,
      "outputs": [
        {
          "output_type": "execute_result",
          "data": {
            "text/plain": [
              "pandas.core.frame.DataFrame"
            ]
          },
          "metadata": {},
          "execution_count": 28
        }
      ]
    },
    {
      "cell_type": "markdown",
      "source": [
        "### 3.1 Top FPL players points"
      ],
      "metadata": {
        "id": "zipwFJN4o08R"
      }
    },
    {
      "cell_type": "code",
      "source": [
        "sns.barplot(data=fpl_df.nlargest(10, 'total_points').sort_values(by='total_points', ascending=False) ,\n",
        "            x=\"total_points\", y=\"name\",  palette=\"Blues_d\")"
      ],
      "metadata": {
        "colab": {
          "base_uri": "https://localhost:8080/",
          "height": 297
        },
        "id": "Mz4VOk41oTnQ",
        "outputId": "b88553c3-9081-4186-94fd-c8bf995662ff"
      },
      "execution_count": null,
      "outputs": [
        {
          "output_type": "execute_result",
          "data": {
            "text/plain": [
              "<matplotlib.axes._subplots.AxesSubplot at 0x7f93934b6990>"
            ]
          },
          "metadata": {},
          "execution_count": 29
        },
        {
          "output_type": "display_data",
          "data": {
            "text/plain": [
              "<Figure size 432x288 with 1 Axes>"
            ],
            "image/png": "[encoded data removed]"
          },
          "metadata": {
            "needs_background": "light"
          }
        }
      ]
    },
    {
      "cell_type": "markdown",
      "source": [
        "### 3.2 Top 10 FPL Players Point Per Game"
      ],
      "metadata": {
        "id": "NmMPp56Uo-mt"
      }
    },
    {
      "cell_type": "code",
      "source": [
        "sns.barplot(data=fpl_df.nlargest(10, 'points_per_game').sort_values (by = 'points_per_game', ascending = False), \n",
        "            x=\"points_per_game\", y=\"name\",  palette=\"Blues_d\")"
      ],
      "metadata": {
        "colab": {
          "base_uri": "https://localhost:8080/",
          "height": 297
        },
        "id": "S1LaoDpFb6Y1",
        "outputId": "d0ba59a2-2d1b-47a1-a0ea-cda7abce2ebd"
      },
      "execution_count": null,
      "outputs": [
        {
          "output_type": "execute_result",
          "data": {
            "text/plain": [
              "<matplotlib.axes._subplots.AxesSubplot at 0x7f93933dd090>"
            ]
          },
          "metadata": {},
          "execution_count": 30
        },
        {
          "output_type": "display_data",
          "data": {
            "text/plain": [
              "<Figure size 432x288 with 1 Axes>"
            ],
            "image/png": "[encoded data removed]"
          },
          "metadata": {
            "needs_background": "light"
          }
        }
      ]
    },
    {
      "cell_type": "markdown",
      "source": [
        "### 3.3 Top 20 FPL Players by Minutes played"
      ],
      "metadata": {
        "id": "QuV3vsK9pHLL"
      }
    },
    {
      "cell_type": "code",
      "source": [
        "sns.barplot(data=fpl_df.nlargest(20, 'minutes').sort_values (by = 'minutes', ascending = False), \n",
        "            x=\"minutes\", y=\"name\",  palette=\"Blues_d\")"
      ],
      "metadata": {
        "colab": {
          "base_uri": "https://localhost:8080/",
          "height": 296
        },
        "id": "R9K_lCZtcAxb",
        "outputId": "a44e3395-8928-42fa-d4ff-4656e91b5616"
      },
      "execution_count": null,
      "outputs": [
        {
          "output_type": "execute_result",
          "data": {
            "text/plain": [
              "<matplotlib.axes._subplots.AxesSubplot at 0x7f9392df5150>"
            ]
          },
          "metadata": {},
          "execution_count": 31
        },
        {
          "output_type": "display_data",
          "data": {
            "text/plain": [
              "<Figure size 432x288 with 1 Axes>"
            ],
            "image/png": "[encoded data removed]"
          },
          "metadata": {
            "needs_background": "light"
          }
        }
      ]
    },
    {
      "cell_type": "markdown",
      "source": [
        "### 3.4 Total Points distrubution using Histogram"
      ],
      "metadata": {
        "id": "jLKcy2BhpVOf"
      }
    },
    {
      "cell_type": "code",
      "source": [
        "sns.histplot(fpl_df['total_points'], kde = True)\n",
        "plt.axvline(fpl_df['total_points'].mean(), color='blue', ls = '--',linewidth=1.5)"
      ],
      "metadata": {
        "colab": {
          "base_uri": "https://localhost:8080/",
          "height": 297
        },
        "id": "GZpd1o42fVcY",
        "outputId": "312718b9-fa43-4474-e2f4-29f2608e41f0"
      },
      "execution_count": null,
      "outputs": [
        {
          "output_type": "execute_result",
          "data": {
            "text/plain": [
              "<matplotlib.lines.Line2D at 0x7f93933b2990>"
            ]
          },
          "metadata": {},
          "execution_count": 32
        },
        {
          "output_type": "display_data",
          "data": {
            "text/plain": [
              "<Figure size 432x288 with 1 Axes>"
            ],
            "image/png": "[encoded data removed]"
          },
          "metadata": {
            "needs_background": "light"
          }
        }
      ]
    },
    {
      "cell_type": "markdown",
      "source": [
        "### 3.5 Total points by Position"
      ],
      "metadata": {
        "id": "-XH4AK1UpfXG"
      }
    },
    {
      "cell_type": "code",
      "source": [
        "sns.countplot(data = fpl_df.sort_values(by='total_points', ascending=False), x = 'position',palette=\"Blues_d\")"
      ],
      "metadata": {
        "colab": {
          "base_uri": "https://localhost:8080/",
          "height": 296
        },
        "id": "Eci5JLFCf0QW",
        "outputId": "a0c413e9-549d-4b6c-f904-34cda284f415"
      },
      "execution_count": null,
      "outputs": [
        {
          "output_type": "execute_result",
          "data": {
            "text/plain": [
              "<matplotlib.axes._subplots.AxesSubplot at 0x7f9392cb24d0>"
            ]
          },
          "metadata": {},
          "execution_count": 33
        },
        {
          "output_type": "display_data",
          "data": {
            "text/plain": [
              "<Figure size 432x288 with 1 Axes>"
            ],
            "image/png": "[encoded data removed]"
          },
          "metadata": {
            "needs_background": "light"
          }
        }
      ]
    },
    {
      "cell_type": "markdown",
      "source": [
        "### 3.6 Top 20 Creative Players"
      ],
      "metadata": {
        "id": "9vor6TXkpoUL"
      }
    },
    {
      "cell_type": "code",
      "source": [
        "sns.barplot(data=fpl_df.nlargest(20, 'creativity').sort_values (by = 'creativity', ascending = False), \n",
        "            x=\"creativity\", y=\"name\",  palette=\"Blues_d\")"
      ],
      "metadata": {
        "colab": {
          "base_uri": "https://localhost:8080/",
          "height": 296
        },
        "id": "W01_KEtck37W",
        "outputId": "f7503f5b-3761-42cf-d342-457953b47fb7"
      },
      "execution_count": null,
      "outputs": [
        {
          "output_type": "execute_result",
          "data": {
            "text/plain": [
              "<matplotlib.axes._subplots.AxesSubplot at 0x7f93903dac90>"
            ]
          },
          "metadata": {},
          "execution_count": 34
        },
        {
          "output_type": "display_data",
          "data": {
            "text/plain": [
              "<Figure size 432x288 with 1 Axes>"
            ],
            "image/png": "[encoded data removed]"
          },
          "metadata": {
            "needs_background": "light"
          }
        }
      ]
    },
    {
      "cell_type": "markdown",
      "source": [
        "### 3.7 Heatmap showing correlation"
      ],
      "metadata": {
        "id": "dI9g7T-SpvPO"
      }
    },
    {
      "cell_type": "markdown",
      "source": [
        "### 3.8 Pairplot showing "
      ],
      "metadata": {
        "id": "H4U4U7cip3wm"
      }
    },
    {
      "cell_type": "code",
      "source": [
        "sns.pairplot(fpl_df)"
      ],
      "metadata": {
        "id": "Pg7nBGQSnS-1"
      },
      "execution_count": null,
      "outputs": []
    },
    {
      "cell_type": "code",
      "source": [
        "fpl_df.head()"
      ],
      "metadata": {
        "id": "Ugb5nvD-nvU6"
      },
      "execution_count": null,
      "outputs": []
    },
    {
      "cell_type": "code",
      "source": [
        "### Export Data to Tableau for visualisation and Report\n",
        "fpl_df.to_excel('FPL_Tableau_Final_File.xlsx', encoding='utf-8-sig', index=False)"
      ],
      "metadata": {
        "id": "3YX9zOdAg8c6"
      },
      "execution_count": null,
      "outputs": []
    },
    {
      "cell_type": "markdown",
      "source": [
        "# 4. Key Points\n",
        "•The initial dataset had 20 clubs but didn’t feature clubs that were relegated last season (Burnley, Norwich and Watford). It included newly promoted clubs, N.tham Forest, Bournemouth and Fulham.\n",
        "\n",
        "• Players with 0 minutes played were dropped for this project. This include players who just tranferred to EPL clubs, loanees return to EPL parent club from other leagues, players with newly promoted clubs."
      ],
      "metadata": {
        "id": "j34tkdrs4sV3"
      }
    },
    {
      "cell_type": "markdown",
      "source": [
        "#5. Summary\n",
        "• Chelsea FC players, returned the highest point total for any club in the last season with a \n",
        "total of 2143 points.\n",
        "\n",
        "• Manchester City had the best average point per team 99.16, closely followed by Liverpool. Talk about effective!!\n",
        "\n",
        "• Manchester City is also the team with the most creativity or you can say with the most creative players,\n",
        "followed by Liverpool. Chelsea and Arsenal round up the top 4 for creativity.\n",
        "\n",
        "• Alisson Becker of Liverpool was the best shot stopper in FPL last season with 176 points, \n",
        "only Zack Steffen averaged better point per game than him (7.0). \n",
        "\n",
        "• Trent Alexander-Arnold earned the highest points among all defenders last season a total of 208 FPL points,\n",
        "intrestingly 4 liverpool defenders make it into the top 10 defenders list, Talk about a must have. Only Ben Chilwell had a better points return per game of 7.9 before his injury Take note of him guys!!\n",
        "\n",
        "• The defense will be an interesting position to look at next season as it also returned the lowest averaged point among all positions (62.83). You dont want to spend so much and get little returns.\n",
        "\n",
        "• Last season saw two Midfielders clinch the golden boot (Salah and Son) with 23 goals, its no surprise they are the top 2 FPL players coming into this season. Salah with 265, Son with 258, are finished top 2\n",
        "points returned per games as well.\n",
        "\n",
        "• The Forward position on the other hand is an intresting position. Only 1 striker (Harry Kane) made it into the top 10 total points, but the position returned the Highest averaged points among all with 76.59. \n",
        "\n",
        "• Harry Kane finished top with 192 total points for the season, \n",
        "averaging 5.2 points per game. Jamie Vardy 5.3 and C.Ronaldo 5.3 returned better points per game. This position only got more competitive with the likes of Earling Haaland and Darwin Nunez joining the league "
      ],
      "metadata": {
        "id": "jOPTNnNq5-We"
      }
    },
    {
      "cell_type": "markdown",
      "source": [
        "# Conclusion\n",
        "\n",
        "In all this, I am reminded of a quote by the famous Grand Chess Master and FPL enthusiast, Magnus Carlsen, “Even if you are good, you also need to be extraordinarily fortunate to be first overall”. I have found this to be true luck has a big part to play in your success as an FPL manager, but the ability to consume and process data just as well as been a fan of the sport comes in handy in decision making."
      ],
      "metadata": {
        "id": "GOhVSj2D6-VB"
      }
    },
    {
      "cell_type": "code",
      "source": [
        ""
      ],
      "metadata": {
        "id": "YbIfIxz27KMW"
      },
      "execution_count": null,
      "outputs": []
    }
  ]
}